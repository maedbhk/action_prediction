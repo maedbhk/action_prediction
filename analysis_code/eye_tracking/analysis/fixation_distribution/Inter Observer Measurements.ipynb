{
 "cells": [
  {
   "cell_type": "markdown",
   "metadata": {},
   "source": [
    "# Inter Observer Measurements"
   ]
  },
  {
   "cell_type": "markdown",
   "metadata": {},
   "source": [
    "Import necessary libraries"
   ]
  },
  {
   "cell_type": "code",
   "execution_count": 1,
   "metadata": {
    "collapsed": true
   },
   "outputs": [],
   "source": [
    "import numpy as np\n",
    "import pandas as pd \n",
    "import matplotlib.pyplot as plt\n",
    "import seaborn as sns\n",
    "import random\n",
    "from scipy import stats"
   ]
  },
  {
   "cell_type": "markdown",
   "metadata": {},
   "source": [
    "#### Processing Helper functions"
   ]
  },
  {
   "cell_type": "code",
   "execution_count": 2,
   "metadata": {
    "collapsed": true
   },
   "outputs": [],
   "source": [
    "def filter_fixations(data, format):\n",
    "\t\"\"\"\n",
    "\tFilter a dataframe of a specified format to return just the relevant data\n",
    "\n",
    "\tformat: \"gui\", \"events\", or \"samples\"\n",
    "\t\"\"\"\n",
    "\tif format=='gui':\n",
    "\t\tcols = {\"norm_pos_x\": \"x\", \"norm_pos_y\": \"y\"}\n",
    "\t\tfiltered= data[data['confidence']>=0.8].rename(columns=cols).query('x>=0 and x<=1 and y>=0 and y<=1')\n",
    "\t\tfix = filtered[['x', 'y', 'duration']]\n",
    "\telif format=='events':\n",
    "\t\tcols= {\"mean_gx\":\"x\", \"mean_gy\":\"y\"}\n",
    "\t\tfiltered=data[data['type']==\"fixation\"].rename(columns=cols).query('x>=0 and x<=1 and y>=0 and y<=1')\n",
    "\t\tfix = filtered[['x', 'y', 'duration']]\n",
    "\telif format=='samples':\n",
    "\t\tcols={\"gx\":\"x\", \"gy\":\"y\"}\n",
    "\t\tfiltered =data[data['type']==\"fixation\"]\n",
    "\t\tfiltered = filtered[filtered['confidence']>=0.8].rename(columns=cols).query('x>=0 and x<=1 and y>=0 and y<=1')\n",
    "\t\tfix = filtered[['x', 'y']]\n",
    "\n",
    "\treturn fix"
   ]
  },
  {
   "cell_type": "code",
   "execution_count": 3,
   "metadata": {
    "collapsed": true
   },
   "outputs": [],
   "source": [
    "clrs= ['blue', 'red']"
   ]
  },
  {
   "cell_type": "markdown",
   "metadata": {},
   "source": [
    "### Data"
   ]
  },
  {
   "cell_type": "markdown",
   "metadata": {},
   "source": [
    "#### Load in data"
   ]
  },
  {
   "cell_type": "code",
   "execution_count": 4,
   "metadata": {},
   "outputs": [],
   "source": [
    "files = pd.read_csv(\"fixation_files.csv\")"
   ]
  },
  {
   "cell_type": "code",
   "execution_count": 5,
   "metadata": {
    "collapsed": true
   },
   "outputs": [],
   "source": [
    "autonomous_fixation_list = []\n",
    "manual_fixation_list = []"
   ]
  },
  {
   "cell_type": "code",
   "execution_count": 6,
   "metadata": {},
   "outputs": [],
   "source": [
    "for index in range(len(files)):\n",
    "    file = files.loc[index]\n",
    "    filename = file[\"filename\"]\n",
    "    driving = file[\"drivingType\"]\n",
    "    data = pd.read_csv(filename)\n",
    "    fix = filter_fixations(data,\"gui\")\n",
    "    if driving == \"autonomous\":\n",
    "        autonomous_fixation_list.append(fix)\n",
    "    if driving == \"manual\":\n",
    "        manual_fixation_list.append(fix)"
   ]
  },
  {
   "cell_type": "code",
   "execution_count": null,
   "metadata": {},
   "outputs": [],
   "source": []
  },
  {
   "cell_type": "markdown",
   "metadata": {
    "collapsed": true
   },
   "source": [
    "#### Making test data\n",
    "Right now we only have 1 test set of data for both autonomous and manual driving. The code below samples from those distributions to create mock data for testing purposes."
   ]
  },
  {
   "cell_type": "code",
   "execution_count": 7,
   "metadata": {
    "collapsed": true
   },
   "outputs": [],
   "source": [
    "auto_data = pd.read_csv(\"fixations_autonomous.csv\")\n",
    "man_data = pd.read_csv(\"fixations_manual.csv\")\n",
    "a = filter_fixations(auto_data, \"gui\")\n",
    "m = filter_fixations(man_data, \"gui\")"
   ]
  },
  {
   "cell_type": "code",
   "execution_count": 8,
   "metadata": {},
   "outputs": [],
   "source": [
    "n = 10\n",
    "fixation_list = []\n",
    "for i in range(n):\n",
    "    rand = random.uniform(0,1)\n",
    "    temp = a.sample(frac=rand, replace=True, random_state=i).append(m.sample(frac=1-rand, replace=True, random_state=i))\n",
    "    fixation_list.append(temp)"
   ]
  },
  {
   "cell_type": "markdown",
   "metadata": {},
   "source": [
    "## Grid Set up"
   ]
  },
  {
   "cell_type": "code",
   "execution_count": 9,
   "metadata": {
    "collapsed": true
   },
   "outputs": [],
   "source": [
    "#determine image size from the video\n",
    "image_size= (1280,720)\n",
    "\n",
    "#calculate grid size \n",
    "grid_size=(image_size[0]//10, image_size[1]//10)"
   ]
  },
  {
   "cell_type": "code",
   "execution_count": 10,
   "metadata": {
    "collapsed": true
   },
   "outputs": [],
   "source": [
    "'''\n",
    "Converts datatable of fixations at x,y positions to datatable of number of fixations at grid positions \n",
    "\n",
    "Parameters: \n",
    "    fixations = a table with columns x,y \n",
    "Returns:\n",
    "    table with columns grid_x, grid_y, num\n",
    "'''\n",
    "def grid_fixations(fixations):\n",
    "    fixations['grid_x'] = np.floor(fixations['x']*grid_size[0])\n",
    "    fixations['grid_y'] = np.floor(fixations['y']*grid_size[1])\n",
    "    fixations = fixations.groupby(['grid_x', 'grid_y']).size().reset_index(level=['grid_x', 'grid_y'], name='num')\n",
    "    \n",
    "    blank_data = []\n",
    "    for x in range(grid_size[0]):\n",
    "        for y in range(grid_size[1]):\n",
    "            blank_data.append([x,y,0])\n",
    "    blank = pd.DataFrame(blank_data, columns = ['grid_x', 'grid_y','num']) \n",
    "    \n",
    "    fixations = fixations.append(blank, ignore_index=True)\n",
    "    return fixations.groupby(['grid_x', 'grid_y']).sum().reset_index(level=['grid_x', 'grid_y'])"
   ]
  },
  {
   "cell_type": "code",
   "execution_count": 11,
   "metadata": {
    "collapsed": true
   },
   "outputs": [],
   "source": [
    "def grid_all_subjects(fixation_list):\n",
    "    #create grid table \n",
    "    grid_positions = []\n",
    "    for x in range(grid_size[0]):\n",
    "        for y in range(grid_size[1]):\n",
    "            grid_positions.append([x,y])\n",
    "    all_gridded_fixations = pd.DataFrame(grid_positions, columns = ['x', 'y']) \n",
    "\n",
    "    #fill in table with column for each subject\n",
    "    for i in range(len(fixation_list)): \n",
    "        gridded_fixations = grid_fixations(fixation_list[i])\n",
    "        col_name = 'subject' + str(i)\n",
    "        all_gridded_fixations[col_name] = gridded_fixations['num']\n",
    "\n",
    "    #add total column with the total number of fixations at that grid position\n",
    "    col_list = list(all_gridded_fixations)\n",
    "    col_list.remove('x')\n",
    "    col_list.remove('y')\n",
    "    all_gridded_fixations['total'] = all_gridded_fixations[col_list].sum(axis=1)\n",
    "    \n",
    "    return all_gridded_fixations"
   ]
  },
  {
   "cell_type": "markdown",
   "metadata": {},
   "source": [
    "For now, use ```gridded_data``` and ```fixation_list``` below. Once we have actual data, replace with the versions for autonomous and manual respectively. "
   ]
  },
  {
   "cell_type": "code",
   "execution_count": 12,
   "metadata": {},
   "outputs": [],
   "source": [
    "gridded_data = grid_all_subjects(fixation_list)\n",
    "# gridded_autonomous = grid_all_subjects(autonomous_fixation_list)\n",
    "# gridded_manual = grid_all_subjects(manual_fixation_list)"
   ]
  },
  {
   "cell_type": "markdown",
   "metadata": {},
   "source": [
    "# Inter Observer Congruency (IOC) Measurement"
   ]
  },
  {
   "cell_type": "markdown",
   "metadata": {},
   "source": [
    "Idea: Build a saliency map from all observers except the ith observer. To calculate degree of similarity between ith observer and others, calculate hit rate. Iterate over all subjects and average scores to get the IOC. \n",
    "\n",
    "1. Iterate over all fixation positions(x,y)\n",
    "2. Convert fixation positions to gridded positions\n",
    "3. For each grid position, map position to number of fixations in that grid position\n",
    "4. Adaptive Binarization - yes or no whether some threshold number t or more fixations in that position \n"
   ]
  },
  {
   "cell_type": "code",
   "execution_count": 13,
   "metadata": {
    "collapsed": true
   },
   "outputs": [],
   "source": [
    "'''\n",
    "Parameters: \n",
    "    n = number of subjects\n",
    "    table = \n",
    "''' \n",
    "def ioc(n, table, thresholds):\n",
    "    rates= pd.DataFrame([])\n",
    "    for i in range(n):\n",
    "        for t in thresholds: \n",
    "            temp = pd.DataFrame([], columns={'subject', 'others_sum','binarized'})\n",
    "            col_name = 'subject' + str(i)\n",
    "            temp['subject'] = table[col_name]\n",
    "            temp['others_sum'] = table['total'] - table[col_name]\n",
    "            temp['binarized'] = temp['others_sum'] > t\n",
    "            rate = sum(temp[temp['binarized']]['subject'])/sum(temp['subject'])\n",
    "            rates = rates.append([[col_name, rate, t]], ignore_index=True)\n",
    "        \n",
    "    ioc_rates= rates.rename(columns={0: \"subject\", 1: \"hit_rate\", 2:\"threshold\"})\n",
    "    return ioc_rates"
   ]
  },
  {
   "cell_type": "markdown",
   "metadata": {},
   "source": [
    "Need to determine what thresholds to use"
   ]
  },
  {
   "cell_type": "code",
   "execution_count": 14,
   "metadata": {
    "collapsed": true
   },
   "outputs": [],
   "source": [
    "thresholds = [5, 10, 15, 20]"
   ]
  },
  {
   "cell_type": "markdown",
   "metadata": {},
   "source": [
    "The chart below shows the hit rate for each subject at each of the thresholds defined above. This will be useful in determining what threshold to use later."
   ]
  },
  {
   "cell_type": "code",
   "execution_count": 15,
   "metadata": {},
   "outputs": [
    {
     "data": {
      "text/html": [
       "<div>\n",
       "<style scoped>\n",
       "    .dataframe tbody tr th:only-of-type {\n",
       "        vertical-align: middle;\n",
       "    }\n",
       "\n",
       "    .dataframe tbody tr th {\n",
       "        vertical-align: top;\n",
       "    }\n",
       "\n",
       "    .dataframe thead th {\n",
       "        text-align: right;\n",
       "    }\n",
       "</style>\n",
       "<table border=\"1\" class=\"dataframe\">\n",
       "  <thead>\n",
       "    <tr style=\"text-align: right;\">\n",
       "      <th></th>\n",
       "      <th>subject</th>\n",
       "      <th>hit_rate</th>\n",
       "      <th>threshold</th>\n",
       "    </tr>\n",
       "  </thead>\n",
       "  <tbody>\n",
       "    <tr>\n",
       "      <th>0</th>\n",
       "      <td>subject0</td>\n",
       "      <td>0.729294</td>\n",
       "      <td>5</td>\n",
       "    </tr>\n",
       "    <tr>\n",
       "      <th>1</th>\n",
       "      <td>subject0</td>\n",
       "      <td>0.557532</td>\n",
       "      <td>10</td>\n",
       "    </tr>\n",
       "    <tr>\n",
       "      <th>2</th>\n",
       "      <td>subject0</td>\n",
       "      <td>0.412451</td>\n",
       "      <td>15</td>\n",
       "    </tr>\n",
       "    <tr>\n",
       "      <th>3</th>\n",
       "      <td>subject0</td>\n",
       "      <td>0.300723</td>\n",
       "      <td>20</td>\n",
       "    </tr>\n",
       "    <tr>\n",
       "      <th>4</th>\n",
       "      <td>subject1</td>\n",
       "      <td>0.850213</td>\n",
       "      <td>5</td>\n",
       "    </tr>\n",
       "    <tr>\n",
       "      <th>5</th>\n",
       "      <td>subject1</td>\n",
       "      <td>0.692964</td>\n",
       "      <td>10</td>\n",
       "    </tr>\n",
       "    <tr>\n",
       "      <th>6</th>\n",
       "      <td>subject1</td>\n",
       "      <td>0.590618</td>\n",
       "      <td>15</td>\n",
       "    </tr>\n",
       "    <tr>\n",
       "      <th>7</th>\n",
       "      <td>subject1</td>\n",
       "      <td>0.500000</td>\n",
       "      <td>20</td>\n",
       "    </tr>\n",
       "    <tr>\n",
       "      <th>8</th>\n",
       "      <td>subject2</td>\n",
       "      <td>0.862643</td>\n",
       "      <td>5</td>\n",
       "    </tr>\n",
       "    <tr>\n",
       "      <th>9</th>\n",
       "      <td>subject2</td>\n",
       "      <td>0.733611</td>\n",
       "      <td>10</td>\n",
       "    </tr>\n",
       "    <tr>\n",
       "      <th>10</th>\n",
       "      <td>subject2</td>\n",
       "      <td>0.656087</td>\n",
       "      <td>15</td>\n",
       "    </tr>\n",
       "    <tr>\n",
       "      <th>11</th>\n",
       "      <td>subject2</td>\n",
       "      <td>0.592092</td>\n",
       "      <td>20</td>\n",
       "    </tr>\n",
       "    <tr>\n",
       "      <th>12</th>\n",
       "      <td>subject3</td>\n",
       "      <td>0.877175</td>\n",
       "      <td>5</td>\n",
       "    </tr>\n",
       "    <tr>\n",
       "      <th>13</th>\n",
       "      <td>subject3</td>\n",
       "      <td>0.756909</td>\n",
       "      <td>10</td>\n",
       "    </tr>\n",
       "    <tr>\n",
       "      <th>14</th>\n",
       "      <td>subject3</td>\n",
       "      <td>0.690890</td>\n",
       "      <td>15</td>\n",
       "    </tr>\n",
       "    <tr>\n",
       "      <th>15</th>\n",
       "      <td>subject3</td>\n",
       "      <td>0.628454</td>\n",
       "      <td>20</td>\n",
       "    </tr>\n",
       "    <tr>\n",
       "      <th>16</th>\n",
       "      <td>subject4</td>\n",
       "      <td>0.897784</td>\n",
       "      <td>5</td>\n",
       "    </tr>\n",
       "    <tr>\n",
       "      <th>17</th>\n",
       "      <td>subject4</td>\n",
       "      <td>0.808661</td>\n",
       "      <td>10</td>\n",
       "    </tr>\n",
       "    <tr>\n",
       "      <th>18</th>\n",
       "      <td>subject4</td>\n",
       "      <td>0.743706</td>\n",
       "      <td>15</td>\n",
       "    </tr>\n",
       "    <tr>\n",
       "      <th>19</th>\n",
       "      <td>subject4</td>\n",
       "      <td>0.694361</td>\n",
       "      <td>20</td>\n",
       "    </tr>\n",
       "    <tr>\n",
       "      <th>20</th>\n",
       "      <td>subject5</td>\n",
       "      <td>0.860879</td>\n",
       "      <td>5</td>\n",
       "    </tr>\n",
       "    <tr>\n",
       "      <th>21</th>\n",
       "      <td>subject5</td>\n",
       "      <td>0.718619</td>\n",
       "      <td>10</td>\n",
       "    </tr>\n",
       "    <tr>\n",
       "      <th>22</th>\n",
       "      <td>subject5</td>\n",
       "      <td>0.622385</td>\n",
       "      <td>15</td>\n",
       "    </tr>\n",
       "    <tr>\n",
       "      <th>23</th>\n",
       "      <td>subject5</td>\n",
       "      <td>0.565377</td>\n",
       "      <td>20</td>\n",
       "    </tr>\n",
       "    <tr>\n",
       "      <th>24</th>\n",
       "      <td>subject6</td>\n",
       "      <td>0.838486</td>\n",
       "      <td>5</td>\n",
       "    </tr>\n",
       "    <tr>\n",
       "      <th>25</th>\n",
       "      <td>subject6</td>\n",
       "      <td>0.675373</td>\n",
       "      <td>10</td>\n",
       "    </tr>\n",
       "    <tr>\n",
       "      <th>26</th>\n",
       "      <td>subject6</td>\n",
       "      <td>0.575160</td>\n",
       "      <td>15</td>\n",
       "    </tr>\n",
       "    <tr>\n",
       "      <th>27</th>\n",
       "      <td>subject6</td>\n",
       "      <td>0.494136</td>\n",
       "      <td>20</td>\n",
       "    </tr>\n",
       "    <tr>\n",
       "      <th>28</th>\n",
       "      <td>subject7</td>\n",
       "      <td>0.874675</td>\n",
       "      <td>5</td>\n",
       "    </tr>\n",
       "    <tr>\n",
       "      <th>29</th>\n",
       "      <td>subject7</td>\n",
       "      <td>0.744670</td>\n",
       "      <td>10</td>\n",
       "    </tr>\n",
       "    <tr>\n",
       "      <th>30</th>\n",
       "      <td>subject7</td>\n",
       "      <td>0.670827</td>\n",
       "      <td>15</td>\n",
       "    </tr>\n",
       "    <tr>\n",
       "      <th>31</th>\n",
       "      <td>subject7</td>\n",
       "      <td>0.612585</td>\n",
       "      <td>20</td>\n",
       "    </tr>\n",
       "    <tr>\n",
       "      <th>32</th>\n",
       "      <td>subject8</td>\n",
       "      <td>0.769525</td>\n",
       "      <td>5</td>\n",
       "    </tr>\n",
       "    <tr>\n",
       "      <th>33</th>\n",
       "      <td>subject8</td>\n",
       "      <td>0.605134</td>\n",
       "      <td>10</td>\n",
       "    </tr>\n",
       "    <tr>\n",
       "      <th>34</th>\n",
       "      <td>subject8</td>\n",
       "      <td>0.481158</td>\n",
       "      <td>15</td>\n",
       "    </tr>\n",
       "    <tr>\n",
       "      <th>35</th>\n",
       "      <td>subject8</td>\n",
       "      <td>0.388859</td>\n",
       "      <td>20</td>\n",
       "    </tr>\n",
       "    <tr>\n",
       "      <th>36</th>\n",
       "      <td>subject9</td>\n",
       "      <td>0.878495</td>\n",
       "      <td>5</td>\n",
       "    </tr>\n",
       "    <tr>\n",
       "      <th>37</th>\n",
       "      <td>subject9</td>\n",
       "      <td>0.768683</td>\n",
       "      <td>10</td>\n",
       "    </tr>\n",
       "    <tr>\n",
       "      <th>38</th>\n",
       "      <td>subject9</td>\n",
       "      <td>0.692933</td>\n",
       "      <td>15</td>\n",
       "    </tr>\n",
       "    <tr>\n",
       "      <th>39</th>\n",
       "      <td>subject9</td>\n",
       "      <td>0.645145</td>\n",
       "      <td>20</td>\n",
       "    </tr>\n",
       "  </tbody>\n",
       "</table>\n",
       "</div>"
      ],
      "text/plain": [
       "     subject  hit_rate  threshold\n",
       "0   subject0  0.729294          5\n",
       "1   subject0  0.557532         10\n",
       "2   subject0  0.412451         15\n",
       "3   subject0  0.300723         20\n",
       "4   subject1  0.850213          5\n",
       "5   subject1  0.692964         10\n",
       "6   subject1  0.590618         15\n",
       "7   subject1  0.500000         20\n",
       "8   subject2  0.862643          5\n",
       "9   subject2  0.733611         10\n",
       "10  subject2  0.656087         15\n",
       "11  subject2  0.592092         20\n",
       "12  subject3  0.877175          5\n",
       "13  subject3  0.756909         10\n",
       "14  subject3  0.690890         15\n",
       "15  subject3  0.628454         20\n",
       "16  subject4  0.897784          5\n",
       "17  subject4  0.808661         10\n",
       "18  subject4  0.743706         15\n",
       "19  subject4  0.694361         20\n",
       "20  subject5  0.860879          5\n",
       "21  subject5  0.718619         10\n",
       "22  subject5  0.622385         15\n",
       "23  subject5  0.565377         20\n",
       "24  subject6  0.838486          5\n",
       "25  subject6  0.675373         10\n",
       "26  subject6  0.575160         15\n",
       "27  subject6  0.494136         20\n",
       "28  subject7  0.874675          5\n",
       "29  subject7  0.744670         10\n",
       "30  subject7  0.670827         15\n",
       "31  subject7  0.612585         20\n",
       "32  subject8  0.769525          5\n",
       "33  subject8  0.605134         10\n",
       "34  subject8  0.481158         15\n",
       "35  subject8  0.388859         20\n",
       "36  subject9  0.878495          5\n",
       "37  subject9  0.768683         10\n",
       "38  subject9  0.692933         15\n",
       "39  subject9  0.645145         20"
      ]
     },
     "execution_count": 15,
     "metadata": {},
     "output_type": "execute_result"
    }
   ],
   "source": [
    "ioc(len(fixation_list), gridded_data, thresholds)"
   ]
  },
  {
   "cell_type": "markdown",
   "metadata": {},
   "source": [
    "# Pairwise Comparison\n",
    "To measure how much of a subject's fixations match with all other subjects'\n",
    "\n",
    "1. Convert fixations to their locations in a grid\n",
    "2. Since all the subjects have the same grid, the vectors being compared for each subject now all have the same length since each subject has one entry per grid position that contains the number of fixations at that position \n",
    "3. Calculate correlation between each subject \n",
    "4. Convert correlations to z-scores with Fisher Z-Transformation\n",
    "5. Average z-scores \n",
    "6. Convert to probabilities\n",
    "\n",
    "Note on Fisher Z-Transformation:\n",
    "\n",
    "The Fisher Z-Transformation is a way to transform the sampling distribution of Pearson’s r (i.e. the correlation coefficient) so that it becomes normally distributed. The “z” in Fisher Z stands for a z-score.\n",
    "The formula to transform r to a z-score is:\n",
    "z’ = .5[ln(1+r) – ln(1-r)]\n",
    "\n",
    "[Reference](statisticshowto.com/fisher-z/)"
   ]
  },
  {
   "cell_type": "code",
   "execution_count": 16,
   "metadata": {
    "collapsed": true
   },
   "outputs": [],
   "source": [
    "def fisher(r):\n",
    "    return 0.5 * (np.log(1+r) - np.log(1-r))"
   ]
  },
  {
   "cell_type": "code",
   "execution_count": 17,
   "metadata": {
    "collapsed": true
   },
   "outputs": [],
   "source": [
    "def pairwise(n, table):\n",
    "    scores = pd.DataFrame([])\n",
    "    for i in range(n):\n",
    "        col_name = 'subject' + str(i)\n",
    "        z_scores = []\n",
    "        for other in range(n):\n",
    "            if i != other: \n",
    "                other_name = 'subject' + str(other)\n",
    "                corr = np.corrcoef(table[col_name], table[other_name])[0][1]\n",
    "                z= fisher(corr)\n",
    "                z_scores.append(z)\n",
    "        avg_z = np.mean(z_scores)\n",
    "        scores = scores.append([[\"subject\" + str(i), avg_z,stats.norm.cdf(avg_z)]])\n",
    "    return scores.rename(columns={0:\"observer\", 1:\"average z score\", 2:\"probability\"})"
   ]
  },
  {
   "cell_type": "markdown",
   "metadata": {},
   "source": [
    "Run"
   ]
  },
  {
   "cell_type": "code",
   "execution_count": 18,
   "metadata": {},
   "outputs": [],
   "source": [
    "results = pairwise(len(fixation_list), gridded_data)"
   ]
  },
  {
   "cell_type": "code",
   "execution_count": 19,
   "metadata": {},
   "outputs": [
    {
     "data": {
      "text/html": [
       "<div>\n",
       "<style scoped>\n",
       "    .dataframe tbody tr th:only-of-type {\n",
       "        vertical-align: middle;\n",
       "    }\n",
       "\n",
       "    .dataframe tbody tr th {\n",
       "        vertical-align: top;\n",
       "    }\n",
       "\n",
       "    .dataframe thead th {\n",
       "        text-align: right;\n",
       "    }\n",
       "</style>\n",
       "<table border=\"1\" class=\"dataframe\">\n",
       "  <thead>\n",
       "    <tr style=\"text-align: right;\">\n",
       "      <th></th>\n",
       "      <th>observer</th>\n",
       "      <th>average z score</th>\n",
       "      <th>probability</th>\n",
       "    </tr>\n",
       "  </thead>\n",
       "  <tbody>\n",
       "    <tr>\n",
       "      <th>0</th>\n",
       "      <td>subject0</td>\n",
       "      <td>0.395544</td>\n",
       "      <td>0.653779</td>\n",
       "    </tr>\n",
       "    <tr>\n",
       "      <th>0</th>\n",
       "      <td>subject1</td>\n",
       "      <td>1.003876</td>\n",
       "      <td>0.842281</td>\n",
       "    </tr>\n",
       "    <tr>\n",
       "      <th>0</th>\n",
       "      <td>subject2</td>\n",
       "      <td>1.152909</td>\n",
       "      <td>0.875526</td>\n",
       "    </tr>\n",
       "    <tr>\n",
       "      <th>0</th>\n",
       "      <td>subject3</td>\n",
       "      <td>1.142159</td>\n",
       "      <td>0.873306</td>\n",
       "    </tr>\n",
       "    <tr>\n",
       "      <th>0</th>\n",
       "      <td>subject4</td>\n",
       "      <td>1.112476</td>\n",
       "      <td>0.867033</td>\n",
       "    </tr>\n",
       "    <tr>\n",
       "      <th>0</th>\n",
       "      <td>subject5</td>\n",
       "      <td>1.131651</td>\n",
       "      <td>0.871109</td>\n",
       "    </tr>\n",
       "    <tr>\n",
       "      <th>0</th>\n",
       "      <td>subject6</td>\n",
       "      <td>1.013951</td>\n",
       "      <td>0.844697</td>\n",
       "    </tr>\n",
       "    <tr>\n",
       "      <th>0</th>\n",
       "      <td>subject7</td>\n",
       "      <td>1.147571</td>\n",
       "      <td>0.874427</td>\n",
       "    </tr>\n",
       "    <tr>\n",
       "      <th>0</th>\n",
       "      <td>subject8</td>\n",
       "      <td>0.677230</td>\n",
       "      <td>0.750870</td>\n",
       "    </tr>\n",
       "    <tr>\n",
       "      <th>0</th>\n",
       "      <td>subject9</td>\n",
       "      <td>1.111847</td>\n",
       "      <td>0.866898</td>\n",
       "    </tr>\n",
       "  </tbody>\n",
       "</table>\n",
       "</div>"
      ],
      "text/plain": [
       "   observer  average z score  probability\n",
       "0  subject0         0.395544     0.653779\n",
       "0  subject1         1.003876     0.842281\n",
       "0  subject2         1.152909     0.875526\n",
       "0  subject3         1.142159     0.873306\n",
       "0  subject4         1.112476     0.867033\n",
       "0  subject5         1.131651     0.871109\n",
       "0  subject6         1.013951     0.844697\n",
       "0  subject7         1.147571     0.874427\n",
       "0  subject8         0.677230     0.750870\n",
       "0  subject9         1.111847     0.866898"
      ]
     },
     "execution_count": 19,
     "metadata": {},
     "output_type": "execute_result"
    }
   ],
   "source": [
    "results"
   ]
  },
  {
   "cell_type": "markdown",
   "metadata": {},
   "source": [
    "# Visualization of Correlations\n",
    "Another approach that visualizes correlations between subjects\n",
    "\n",
    "[reference source](https://medium.com/@sebastiannorena/finding-correlation-between-many-variables-multidimensional-dataset-with-python-5deb3f39ffb3)\n"
   ]
  },
  {
   "cell_type": "code",
   "execution_count": 20,
   "metadata": {
    "collapsed": true
   },
   "outputs": [],
   "source": [
    "def visualize_corr(grid_table):\n",
    "    data = grid_table.drop([\"x\", \"y\",\"total\"], axis=1)\n",
    "    correlations = data.corr()\n",
    "    correlations\n",
    "    corr_plot(correlations, data)\n",
    "    return correlations"
   ]
  },
  {
   "cell_type": "code",
   "execution_count": 21,
   "metadata": {},
   "outputs": [],
   "source": [
    "def corr_plot(correlations, data):\n",
    "    fig = plt.figure()\n",
    "    ax = fig.add_subplot(111)\n",
    "    cax = ax.matshow(correlations,cmap='coolwarm', vmin=0, vmax=1)\n",
    "    fig.colorbar(cax)\n",
    "    ticks = np.arange(0,len(data.columns),1)\n",
    "    ax.set_xticks(ticks)\n",
    "    plt.xticks(rotation=90)\n",
    "    ax.set_yticks(ticks)\n",
    "    ax.set_xticklabels(data.columns)\n",
    "    ax.set_yticklabels(data.columns)\n",
    "    plt.show()"
   ]
  },
  {
   "cell_type": "markdown",
   "metadata": {},
   "source": [
    "Run"
   ]
  },
  {
   "cell_type": "code",
   "execution_count": 22,
   "metadata": {},
   "outputs": [
    {
     "data": {
      "image/png": "[encoded data removed]",
      "text/plain": [
       "<Figure size 432x288 with 2 Axes>"
      ]
     },
     "metadata": {},
     "output_type": "display_data"
    }
   ],
   "source": [
    "correlations = visualize_corr(gridded_data)"
   ]
  },
  {
   "cell_type": "code",
   "execution_count": 23,
   "metadata": {},
   "outputs": [
    {
     "data": {
      "text/html": [
       "<div>\n",
       "<style scoped>\n",
       "    .dataframe tbody tr th:only-of-type {\n",
       "        vertical-align: middle;\n",
       "    }\n",
       "\n",
       "    .dataframe tbody tr th {\n",
       "        vertical-align: top;\n",
       "    }\n",
       "\n",
       "    .dataframe thead th {\n",
       "        text-align: right;\n",
       "    }\n",
       "</style>\n",
       "<table border=\"1\" class=\"dataframe\">\n",
       "  <thead>\n",
       "    <tr style=\"text-align: right;\">\n",
       "      <th></th>\n",
       "      <th>subject0</th>\n",
       "      <th>subject1</th>\n",
       "      <th>subject2</th>\n",
       "      <th>subject3</th>\n",
       "      <th>subject4</th>\n",
       "      <th>subject5</th>\n",
       "      <th>subject6</th>\n",
       "      <th>subject7</th>\n",
       "      <th>subject8</th>\n",
       "      <th>subject9</th>\n",
       "    </tr>\n",
       "  </thead>\n",
       "  <tbody>\n",
       "    <tr>\n",
       "      <th>subject0</th>\n",
       "      <td>1.000000</td>\n",
       "      <td>0.547587</td>\n",
       "      <td>0.298892</td>\n",
       "      <td>0.181050</td>\n",
       "      <td>0.080654</td>\n",
       "      <td>0.357703</td>\n",
       "      <td>0.531962</td>\n",
       "      <td>0.275513</td>\n",
       "      <td>0.764874</td>\n",
       "      <td>0.114461</td>\n",
       "    </tr>\n",
       "    <tr>\n",
       "      <th>subject1</th>\n",
       "      <td>0.547587</td>\n",
       "      <td>1.000000</td>\n",
       "      <td>0.804516</td>\n",
       "      <td>0.772135</td>\n",
       "      <td>0.730807</td>\n",
       "      <td>0.820278</td>\n",
       "      <td>0.844538</td>\n",
       "      <td>0.788324</td>\n",
       "      <td>0.733777</td>\n",
       "      <td>0.741727</td>\n",
       "    </tr>\n",
       "    <tr>\n",
       "      <th>subject2</th>\n",
       "      <td>0.298892</td>\n",
       "      <td>0.804516</td>\n",
       "      <td>1.000000</td>\n",
       "      <td>0.890592</td>\n",
       "      <td>0.888994</td>\n",
       "      <td>0.889015</td>\n",
       "      <td>0.818310</td>\n",
       "      <td>0.908948</td>\n",
       "      <td>0.558071</td>\n",
       "      <td>0.884124</td>\n",
       "    </tr>\n",
       "    <tr>\n",
       "      <th>subject3</th>\n",
       "      <td>0.181050</td>\n",
       "      <td>0.772135</td>\n",
       "      <td>0.890592</td>\n",
       "      <td>1.000000</td>\n",
       "      <td>0.933643</td>\n",
       "      <td>0.869120</td>\n",
       "      <td>0.778943</td>\n",
       "      <td>0.899799</td>\n",
       "      <td>0.460425</td>\n",
       "      <td>0.924445</td>\n",
       "    </tr>\n",
       "    <tr>\n",
       "      <th>subject4</th>\n",
       "      <td>0.080654</td>\n",
       "      <td>0.730807</td>\n",
       "      <td>0.888994</td>\n",
       "      <td>0.933643</td>\n",
       "      <td>1.000000</td>\n",
       "      <td>0.869211</td>\n",
       "      <td>0.735151</td>\n",
       "      <td>0.895028</td>\n",
       "      <td>0.383784</td>\n",
       "      <td>0.944372</td>\n",
       "    </tr>\n",
       "    <tr>\n",
       "      <th>subject5</th>\n",
       "      <td>0.357703</td>\n",
       "      <td>0.820278</td>\n",
       "      <td>0.889015</td>\n",
       "      <td>0.869120</td>\n",
       "      <td>0.869211</td>\n",
       "      <td>1.000000</td>\n",
       "      <td>0.825779</td>\n",
       "      <td>0.880471</td>\n",
       "      <td>0.598704</td>\n",
       "      <td>0.869910</td>\n",
       "    </tr>\n",
       "    <tr>\n",
       "      <th>subject6</th>\n",
       "      <td>0.531962</td>\n",
       "      <td>0.844538</td>\n",
       "      <td>0.818310</td>\n",
       "      <td>0.778943</td>\n",
       "      <td>0.735151</td>\n",
       "      <td>0.825779</td>\n",
       "      <td>1.000000</td>\n",
       "      <td>0.815100</td>\n",
       "      <td>0.717141</td>\n",
       "      <td>0.736686</td>\n",
       "    </tr>\n",
       "    <tr>\n",
       "      <th>subject7</th>\n",
       "      <td>0.275513</td>\n",
       "      <td>0.788324</td>\n",
       "      <td>0.908948</td>\n",
       "      <td>0.899799</td>\n",
       "      <td>0.895028</td>\n",
       "      <td>0.880471</td>\n",
       "      <td>0.815100</td>\n",
       "      <td>1.000000</td>\n",
       "      <td>0.527368</td>\n",
       "      <td>0.892217</td>\n",
       "    </tr>\n",
       "    <tr>\n",
       "      <th>subject8</th>\n",
       "      <td>0.764874</td>\n",
       "      <td>0.733777</td>\n",
       "      <td>0.558071</td>\n",
       "      <td>0.460425</td>\n",
       "      <td>0.383784</td>\n",
       "      <td>0.598704</td>\n",
       "      <td>0.717141</td>\n",
       "      <td>0.527368</td>\n",
       "      <td>1.000000</td>\n",
       "      <td>0.412510</td>\n",
       "    </tr>\n",
       "    <tr>\n",
       "      <th>subject9</th>\n",
       "      <td>0.114461</td>\n",
       "      <td>0.741727</td>\n",
       "      <td>0.884124</td>\n",
       "      <td>0.924445</td>\n",
       "      <td>0.944372</td>\n",
       "      <td>0.869910</td>\n",
       "      <td>0.736686</td>\n",
       "      <td>0.892217</td>\n",
       "      <td>0.412510</td>\n",
       "      <td>1.000000</td>\n",
       "    </tr>\n",
       "  </tbody>\n",
       "</table>\n",
       "</div>"
      ],
      "text/plain": [
       "          subject0  subject1  subject2  subject3  subject4  subject5  \\\n",
       "subject0  1.000000  0.547587  0.298892  0.181050  0.080654  0.357703   \n",
       "subject1  0.547587  1.000000  0.804516  0.772135  0.730807  0.820278   \n",
       "subject2  0.298892  0.804516  1.000000  0.890592  0.888994  0.889015   \n",
       "subject3  0.181050  0.772135  0.890592  1.000000  0.933643  0.869120   \n",
       "subject4  0.080654  0.730807  0.888994  0.933643  1.000000  0.869211   \n",
       "subject5  0.357703  0.820278  0.889015  0.869120  0.869211  1.000000   \n",
       "subject6  0.531962  0.844538  0.818310  0.778943  0.735151  0.825779   \n",
       "subject7  0.275513  0.788324  0.908948  0.899799  0.895028  0.880471   \n",
       "subject8  0.764874  0.733777  0.558071  0.460425  0.383784  0.598704   \n",
       "subject9  0.114461  0.741727  0.884124  0.924445  0.944372  0.869910   \n",
       "\n",
       "          subject6  subject7  subject8  subject9  \n",
       "subject0  0.531962  0.275513  0.764874  0.114461  \n",
       "subject1  0.844538  0.788324  0.733777  0.741727  \n",
       "subject2  0.818310  0.908948  0.558071  0.884124  \n",
       "subject3  0.778943  0.899799  0.460425  0.924445  \n",
       "subject4  0.735151  0.895028  0.383784  0.944372  \n",
       "subject5  0.825779  0.880471  0.598704  0.869910  \n",
       "subject6  1.000000  0.815100  0.717141  0.736686  \n",
       "subject7  0.815100  1.000000  0.527368  0.892217  \n",
       "subject8  0.717141  0.527368  1.000000  0.412510  \n",
       "subject9  0.736686  0.892217  0.412510  1.000000  "
      ]
     },
     "execution_count": 23,
     "metadata": {},
     "output_type": "execute_result"
    }
   ],
   "source": [
    "correlations"
   ]
  }
 ],
 "metadata": {
  "kernelspec": {
   "display_name": "Python 3",
   "language": "python",
   "name": "python3"
  },
  "language_info": {
   "codemirror_mode": {
    "name": "ipython",
    "version": 3
   },
   "file_extension": ".py",
   "mimetype": "text/x-python",
   "name": "python",
   "nbconvert_exporter": "python",
   "pygments_lexer": "ipython3",
   "version": "3.6.1"
  }
 },
 "nbformat": 4,
 "nbformat_minor": 2
}
