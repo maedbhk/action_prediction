{
 "cells": [
  {
   "cell_type": "markdown",
   "metadata": {},
   "source": [
    "# Tutorial 04 - Loading and printing surface positions in world camera coordinate space\n",
    "\n",
    "In this tutorial we will look at how to load surface position data that was exported from Pupil Player in order to get positions of surfaces in pixels. We will follow these steps:\n",
    "\n",
    "1. Load the data using `Pandas`\n",
    "2. Transform and map surface vertices into world camera pixel coordinates \n",
    "3. Visualize the surfaces in world camera pixel space\n",
    "\n",
    "## 1 - Loading Exported Surface Data\n",
    "\n",
    "Now lets see how to load the exported surface position data for a single surface. The file will be named with the pattern `srf_positions_<your-surface-name>_<uid>.csv`. "
   ]
  },
  {
   "cell_type": "code",
   "execution_count": 1,
   "metadata": {
    "pycharm": {
     "is_executing": false
    }
   },
   "outputs": [
    {
     "traceback": [
      "\u001b[0;31m---------------------------------------------------------------------------\u001b[0m",
      "\u001b[0;31mModuleNotFoundError\u001b[0m                       Traceback (most recent call last)",
      "\u001b[0;32m<ipython-input-1-6fb8a6ea41c5>\u001b[0m in \u001b[0;36m<module>\u001b[0;34m\u001b[0m\n\u001b[1;32m      1\u001b[0m \u001b[0;32mimport\u001b[0m \u001b[0mos\u001b[0m\u001b[0;34m\u001b[0m\u001b[0;34m\u001b[0m\u001b[0m\n\u001b[0;32m----> 2\u001b[0;31m \u001b[0;32mimport\u001b[0m \u001b[0mpandas\u001b[0m \u001b[0;32mas\u001b[0m \u001b[0mpd\u001b[0m\u001b[0;34m\u001b[0m\u001b[0;34m\u001b[0m\u001b[0m\n\u001b[0m\u001b[1;32m      3\u001b[0m \u001b[0;32mimport\u001b[0m \u001b[0mnumpy\u001b[0m \u001b[0;32mas\u001b[0m \u001b[0mnp\u001b[0m\u001b[0;34m\u001b[0m\u001b[0;34m\u001b[0m\u001b[0m\n\u001b[1;32m      4\u001b[0m \u001b[0;34m\u001b[0m\u001b[0m\n\u001b[1;32m      5\u001b[0m \u001b[0;31m# the matrix in the csv file does not have commas to separate values\u001b[0m\u001b[0;34m\u001b[0m\u001b[0;34m\u001b[0m\u001b[0;34m\u001b[0m\u001b[0m\n",
      "\u001b[0;31mModuleNotFoundError\u001b[0m: No module named 'pandas'"
     ],
     "ename": "ModuleNotFoundError",
     "evalue": "No module named 'pandas'",
     "output_type": "error"
    }
   ],
   "source": [
    "import os\n",
    "import pandas as pd\n",
    "import numpy as np\n",
    "\n",
    "# the matrix in the csv file does not have commas to separate values\n",
    "# we need to do a bit of formatting with our parse function\n",
    "# so that we will be able to read the matrix in python as numeric and not strings\n",
    "def parse(filedata):\n",
    "    output = []\n",
    "    for line in filedata.split('\\n'):\n",
    "        line = line.strip().rstrip(']').lstrip('[')\n",
    "        if not line:\n",
    "            continue\n",
    "        line = line.split()\n",
    "        row = []\n",
    "        for cell in line:\n",
    "            cell = cell.strip()\n",
    "            if not cell.strip():\n",
    "                continue\n",
    "            row.append(float(cell))\n",
    "        output.append(row)\n",
    "    return output\n",
    "\n",
    "recordings_location = '/home/whitney/Teresa/demos'\n",
    "demo_recording = 'surfaceANDcalibration_3screens'\n",
    "folder_name = 'surface'\n",
    "file_name = 'surface_definitions'\n",
    "exported_surface_csv = os.path.join(recordings_location, demo_recording, \n",
    "                                    'exports', '000', 'surfaces', file_name)\n",
    "surface_pd_frame = pd.read_csv(exported_surface_csv, \n",
    "                               converters={'m_to_screen': parse, 'm_from_screen': parse})\n",
    "\n",
    "print(\"Columns present in exported surface positions data file:\\n {}\".format(surface_pd_frame.columns))"
   ]
  },
  {
   "cell_type": "markdown",
   "metadata": {},
   "source": [
    "### Individual Datums\n",
    "\n",
    "As we can see the data frame contains only a few columns. Let's review what each column is used for:\n",
    "\n",
    "- `frame_idx` - The frame number of the world camera to which this sample is correlated.\n",
    "- `timestamp` - The world camera timestamp at which the sample was recorded.\n",
    "- `m_to_screen` - 3x3 transformation matrix from reference surface coordinate space to screen coordinate space.\n",
    "- `m_from_screen` - 3x3 transformation matrix from screen coordinate space to reference surface coordinate space.\n",
    "- `detected_markers` - number of markers that were detected for this datum.\n",
    "\n",
    "Let's take a look at a few values!\n"
   ]
  },
  {
   "cell_type": "code",
   "execution_count": 1,
   "metadata": {
    "pycharm": {
     "is_executing": false
    }
   },
   "outputs": [
    {
     "traceback": [
      "\u001b[0;31m---------------------------------------------------------------------------\u001b[0m",
      "\u001b[0;31mNameError\u001b[0m                                 Traceback (most recent call last)",
      "\u001b[0;32m<ipython-input-1-19521aff4e5c>\u001b[0m in \u001b[0;36m<module>\u001b[0;34m\u001b[0m\n\u001b[0;32m----> 1\u001b[0;31m \u001b[0mgaze_on_srf\u001b[0m \u001b[0;34m=\u001b[0m \u001b[0msurface_pd_frame\u001b[0m\u001b[0;34m\u001b[0m\u001b[0;34m\u001b[0m\u001b[0m\n\u001b[0m\u001b[1;32m      2\u001b[0m \u001b[0mpd\u001b[0m\u001b[0;34m.\u001b[0m\u001b[0moptions\u001b[0m\u001b[0;34m.\u001b[0m\u001b[0mdisplay\u001b[0m\u001b[0;34m.\u001b[0m\u001b[0mfloat_format\u001b[0m \u001b[0;34m=\u001b[0m \u001b[0;34m'{:.3f}'\u001b[0m\u001b[0;34m.\u001b[0m\u001b[0mformat\u001b[0m\u001b[0;34m\u001b[0m\u001b[0;34m\u001b[0m\u001b[0m\n\u001b[1;32m      3\u001b[0m \u001b[0;34m\u001b[0m\u001b[0m\n\u001b[1;32m      4\u001b[0m \u001b[0mheaders\u001b[0m \u001b[0;34m=\u001b[0m \u001b[0msurface_pd_frame\u001b[0m\u001b[0;34m.\u001b[0m\u001b[0mcolumns\u001b[0m\u001b[0;34m\u001b[0m\u001b[0;34m\u001b[0m\u001b[0m\n\u001b[1;32m      5\u001b[0m \u001b[0mprint\u001b[0m\u001b[0;34m(\u001b[0m\u001b[0;34m\"surface positions for (magazine surface):\\n {}\"\u001b[0m\u001b[0;34m.\u001b[0m\u001b[0mformat\u001b[0m\u001b[0;34m(\u001b[0m\u001b[0mgaze_on_srf\u001b[0m\u001b[0;34m[\u001b[0m\u001b[0mheaders\u001b[0m\u001b[0;34m]\u001b[0m\u001b[0;34m[\u001b[0m\u001b[0;34m:\u001b[0m\u001b[0;36m5\u001b[0m\u001b[0;34m]\u001b[0m\u001b[0;34m)\u001b[0m\u001b[0;34m)\u001b[0m\u001b[0;34m\u001b[0m\u001b[0;34m\u001b[0m\u001b[0m\n",
      "\u001b[0;31mNameError\u001b[0m: name 'surface_pd_frame' is not defined"
     ],
     "ename": "NameError",
     "evalue": "name 'surface_pd_frame' is not defined",
     "output_type": "error"
    }
   ],
   "source": [
    "gaze_on_srf = surface_pd_frame\n",
    "pd.options.display.float_format = '{:.3f}'.format\n",
    "\n",
    "headers = surface_pd_frame.columns\n",
    "print(\"surface positions for (magazine surface):\\n {}\".format(gaze_on_srf[headers][:5]))"
   ]
  },
  {
   "cell_type": "markdown",
   "metadata": {},
   "source": [
    "## 2 - Transform and map surface vertices into world camera pixel coordinates\n",
    "\n",
    "Use each transformation matrix to get the \"distorted\" corner coordinates of the surface. The surface corners are always `((0,0), (0,1), (1,1), (1,0))`. We use OpenCV's `perspectiveTransform` method for matrix multiplication, where we supply a point and transform it with our matrix. The result is the position of the corner in the distorted space of the world camera. Then we must denormalize the coordinate to map it from 0 to 1 range into the pixel space of the world camera."
   ]
  },
  {
   "cell_type": "code",
   "execution_count": 2,
   "metadata": {
    "pycharm": {
     "is_executing": false
    }
   },
   "outputs": [
    {
     "traceback": [
      "\u001b[0;31m---------------------------------------------------------------------------\u001b[0m",
      "\u001b[0;31mNameError\u001b[0m                                 Traceback (most recent call last)",
      "\u001b[0;32m<ipython-input-2-94a7654e3223>\u001b[0m in \u001b[0;36m<module>\u001b[0;34m\u001b[0m\n\u001b[1;32m     18\u001b[0m     \u001b[0;32mreturn\u001b[0m \u001b[0mnew_pos\u001b[0m\u001b[0;34m\u001b[0m\u001b[0;34m\u001b[0m\u001b[0m\n\u001b[1;32m     19\u001b[0m \u001b[0;34m\u001b[0m\u001b[0m\n\u001b[0;32m---> 20\u001b[0;31m \u001b[0mm_to_screen\u001b[0m \u001b[0;34m=\u001b[0m \u001b[0msurface_pd_frame\u001b[0m\u001b[0;34m[\u001b[0m\u001b[0;34m'm_to_screen'\u001b[0m\u001b[0;34m]\u001b[0m\u001b[0;34m\u001b[0m\u001b[0;34m\u001b[0m\u001b[0m\n\u001b[0m\u001b[1;32m     21\u001b[0m \u001b[0mcorners\u001b[0m \u001b[0;34m=\u001b[0m \u001b[0;34m[\u001b[0m\u001b[0;34m[\u001b[0m\u001b[0;36m0.\u001b[0m\u001b[0;34m,\u001b[0m\u001b[0;36m0.\u001b[0m\u001b[0;34m]\u001b[0m\u001b[0;34m,\u001b[0m\u001b[0;34m[\u001b[0m\u001b[0;36m0.\u001b[0m\u001b[0;34m,\u001b[0m\u001b[0;36m1.\u001b[0m\u001b[0;34m]\u001b[0m\u001b[0;34m,\u001b[0m\u001b[0;34m[\u001b[0m\u001b[0;36m1.\u001b[0m\u001b[0;34m,\u001b[0m\u001b[0;36m1.\u001b[0m\u001b[0;34m]\u001b[0m\u001b[0;34m,\u001b[0m\u001b[0;34m[\u001b[0m\u001b[0;36m1.\u001b[0m\u001b[0;34m,\u001b[0m\u001b[0;36m0.\u001b[0m\u001b[0;34m]\u001b[0m\u001b[0;34m]\u001b[0m\u001b[0;34m\u001b[0m\u001b[0;34m\u001b[0m\u001b[0m\n\u001b[1;32m     22\u001b[0m \u001b[0;34m\u001b[0m\u001b[0m\n",
      "\u001b[0;31mNameError\u001b[0m: name 'surface_pd_frame' is not defined"
     ],
     "ename": "NameError",
     "evalue": "name 'surface_pd_frame' is not defined",
     "output_type": "error"
    }
   ],
   "source": [
    "import cv2\n",
    "import re\n",
    "\n",
    "def denormalize(pos, width, height, flip_y=False):\n",
    "    x = pos[0]\n",
    "    y = pos[1]\n",
    "    x *= width\n",
    "    if flip_y:\n",
    "        y = 1-y\n",
    "    y *= height\n",
    "    return x,y\n",
    "\n",
    "def transform_surface_corners(pos, m_to_screen):\n",
    "    shape = pos.shape\n",
    "    pos.shape = (-1,1,2)\n",
    "    new_pos = cv2.perspectiveTransform(pos, m_to_screen )\n",
    "    new_pos.shape = shape\n",
    "    return new_pos\n",
    "\n",
    "m_to_screen = surface_pd_frame['m_to_screen']\n",
    "corners = [[0.,0.],[0.,1.],[1.,1.],[1.,0.]]\n",
    "\n",
    "# use the transformation matrix to map the corners of the surface to pixel space\n",
    "# 1. transform corners with perspective transformation using the matrix\n",
    "# 2. denormalize the coordinates to that we mapped to the scale of the screen\n",
    "surface_screen_corners = []\n",
    "for matrix in m_to_screen:\n",
    "    denormalized_corner_positions = []\n",
    "    for c in corners:\n",
    "        surface_corners_screen = denormalize(transform_surface_corners(np.array(c), np.asarray(matrix)), \n",
    "                                                width = 1280, height = 720)\n",
    "        denormalized_corner_positions.append(surface_corners_screen)\n",
    "    surface_screen_corners.append(denormalized_corner_positions)\n",
    "\n",
    "\n",
    "# add corners of the surface in screen coordinates back to the pandas dataframe for convenience\n",
    "surface_pd_frame = surface_pd_frame.assign(surface_position_screen=pd.Series(surface_screen_corners))\n",
    "\n",
    "# confirm that the corners of the surface mapped to pixel space are in the data frame\n",
    "print(surface_pd_frame['surface_position_screen'][:5])"
   ]
  },
  {
   "cell_type": "markdown",
   "metadata": {},
   "source": [
    "## 3. Visualize the surfaces in world camera pixel space\n",
    "\n",
    "We will simply plot the instances of this surface - `magazine_cover` - within this recording using matplot lib. The plot size is equal to the world camera frame `1280 pixels x 720 pixels`. \n",
    "\n",
    "You can see from the plot below that the surface/participant did not move much through out the duration of the recording. Hence, we have many overlapping rectangles for each surface. "
   ]
  },
  {
   "cell_type": "code",
   "execution_count": 5,
   "metadata": {},
   "outputs": [
    {
     "data": {
      "image/png": "[encoded data removed]",
      "text/plain": [
       "<Figure size 1152x648 with 1 Axes>"
      ]
     },
     "metadata": {},
     "output_type": "display_data"
    }
   ],
   "source": [
    "import matplotlib as mp\n",
    "import matplotlib.pyplot as plt\n",
    "from matplotlib.collections import PolyCollection\n",
    "\n",
    "plt.figure(figsize = (16, 9))\n",
    "axes = plt.gca()\n",
    "axes.set_xlim([0., 1280.])\n",
    "axes.set_ylim([0., 720.])\n",
    "\n",
    "polygons = PolyCollection(surface_pd_frame['surface_position_screen'],\n",
    "                         edgecolors=((1., 0,.2,.005),),\n",
    "                         facecolors=((0,0,0,0),),\n",
    "                         )\n",
    "axes.add_collection(polygons)\n",
    "\n",
    "\n",
    "\n",
    "plt.show()"
   ]
  },
  {
   "cell_type": "code",
   "execution_count": null,
   "metadata": {},
   "outputs": [],
   "source": []
  }
 ],
 "metadata": {
  "kernelspec": {
   "name": "pycharm-edff5b3b",
   "language": "python",
   "display_name": "PyCharm (bdd-driveratt)"
  },
  "language_info": {
   "codemirror_mode": {
    "name": "ipython",
    "version": 3
   },
   "file_extension": ".py",
   "mimetype": "text/x-python",
   "name": "python",
   "nbconvert_exporter": "python",
   "pygments_lexer": "ipython3",
   "version": "3.6.7"
  },
  "pycharm": {
   "stem_cell": {
    "cell_type": "raw",
    "source": [],
    "metadata": {
     "collapsed": false
    }
   }
  }
 },
 "nbformat": 4,
 "nbformat_minor": 2
}