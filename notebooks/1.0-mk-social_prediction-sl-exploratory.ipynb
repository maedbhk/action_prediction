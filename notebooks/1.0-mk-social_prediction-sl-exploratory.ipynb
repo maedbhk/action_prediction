{
 "cells": [
  {
   "cell_type": "code",
   "execution_count": 133,
   "metadata": {},
   "outputs": [
    {
     "name": "stdout",
     "output_type": "stream",
     "text": [
      "The autoreload extension is already loaded. To reload it, use:\n",
      "  %reload_ext autoreload\n"
     ]
    }
   ],
   "source": [
    "# load libraries\n",
    "\n",
    "import pandas as pd\n",
    "import numpy as np\n",
    "import seaborn as sns\n",
    "import os\n",
    "import matplotlib.pyplot as plt\n",
    "from scipy.stats import ttest_ind\n",
    "from scipy.stats import ttest_rel\n",
    "\n",
    "\n",
    "from action_prediction import constants as const\n",
    "from action_prediction.data import DataSet\n",
    "from action_prediction import visualize as vis\n",
    "\n",
    "%load_ext autoreload\n",
    "%autoreload 2"
   ]
  },
  {
   "cell_type": "code",
   "execution_count": 72,
   "metadata": {},
   "outputs": [],
   "source": [
    "# initialize dataset\n",
    "data = DataSet(task='social_prediction')\n",
    "\n",
    "#load confirmed participants\n",
    "df_participants = pd.read_csv(\"../data/behavior/confirmed_participants.csv\")\n",
    "df_participants = df_participants[['public_id', 'paid_full', 'sex']]\n",
    "df_participants['participant'] = df_participants['sex'].map({'M': 'male', 'F': 'female'})\n",
    "\n",
    "# load behavior\n",
    "df_behav = data.load_behav()\n",
    "df_behav = df_behav.merge(df_participants, left_on='subj', right_on='public_id')\n",
    "\n",
    "# load eyetracking\n",
    "df_eye = data.load_eye(data_type='events')\n",
    "\n",
    "# merge eyetracking with behav\n",
    "df_merged = data.merge_behav_eye(dataframe_behav=df_behav, dataframe_eye=df_eye)\n",
    "\n",
    "# #merge demographic data with behav/eyetracking\n",
    "# df_merged = df_merged.merge(df_participants, left_on='subj', right_on='public_id')\n"
   ]
  },
  {
   "cell_type": "code",
   "execution_count": 73,
   "metadata": {},
   "outputs": [
    {
     "data": {
      "text/plain": [
       "<Figure size 600x600 with 0 Axes>"
      ]
     },
     "metadata": {},
     "output_type": "display_data"
    }
   ],
   "source": [
    "\n",
    "# initialize plotting style\n",
    "vis.plotting_style()\n"
   ]
  },
  {
   "cell_type": "markdown",
   "metadata": {},
   "source": [
    "##### Questions/relationships to explore"
   ]
  },
  {
   "cell_type": "code",
   "execution_count": 44,
   "metadata": {
    "scrolled": true
   },
   "outputs": [
    {
     "data": {
      "text/plain": [
       "Index(['peak_velocity', 'amplitude', 'dispersion', 'start_gx', 'start_gy',\n",
       "       'end_gx', 'end_gy', 'surface', 'end_time', 'type', 'duration',\n",
       "       'mean_gx', 'mean_gy', 'block_iter', 'exp_event', 'task', 'event_type',\n",
       "       'run_num', 'subtract', 'onset_sec', 'subj', 'sess', 'start_time',\n",
       "       'actors', 'agents', 'angle', 'balance_exp', 'condition_name', 'context',\n",
       "       'corr_key', 'corr_resp', 'dataset', 'display_trial_feedback',\n",
       "       'extracted', 'feedback_type', 'hand', 'initiator',\n",
       "       'initiator_start_frames', 'initiator_start_frames_corr',\n",
       "       'initiator_start_frames_sec', 'interact_start_frames',\n",
       "       'interact_start_frames_corr', 'interact_start_frames_sec', 'iti_dur',\n",
       "       'label', 'media', 'real_start_time', 'replace_stimuli', 'resp_made',\n",
       "       'rt', 'run_iter', 'session_type', 'stim', 'timestamp_sec', 'trial_dur',\n",
       "       'trial_type', 'video_end', 'video_name', 'video_name_corrected',\n",
       "       'video_start', 'block_iter_corr', 'public_id', 'paid_full', 'sex',\n",
       "       'participant'],\n",
       "      dtype='object')"
      ]
     },
     "execution_count": 44,
     "metadata": {},
     "output_type": "execute_result"
    }
   ],
   "source": [
    "df_merged.columns"
   ]
  },
  {
   "cell_type": "code",
   "execution_count": 114,
   "metadata": {},
   "outputs": [
    {
     "data": {
      "text/plain": [
       "array(['handShake', 'hug'], dtype=object)"
      ]
     },
     "execution_count": 114,
     "metadata": {},
     "output_type": "execute_result"
    }
   ],
   "source": [
    "df_merged['label'].unique()"
   ]
  },
  {
   "cell_type": "markdown",
   "metadata": {},
   "source": [
    "T-test of significance for accuracy differences between sess1 and sess2 across all participants"
   ]
  },
  {
   "cell_type": "code",
   "execution_count": 46,
   "metadata": {},
   "outputs": [
    {
     "data": {
      "text/plain": [
       "array(['run01_block1', 'run01_block2', 'run01_block3', 'run02_block1',\n",
       "       'run02_block2', 'run02_block3', 'run03_block1', 'run03_block2',\n",
       "       'run03_block3', 'run04_block1', 'run04_block2', 'run04_block3',\n",
       "       'run05_block1', 'run05_block2', 'run05_block3', 'run06_block1',\n",
       "       'run06_block2', 'run06_block3', 'run07_block1', 'run07_block2',\n",
       "       'run07_block3', 'run08_block1', 'run08_block2', 'run08_block3',\n",
       "       'run09_block1', 'run09_block2', 'run09_block3', 'run10_block1',\n",
       "       'run10_block2', 'run10_block3', 'run11_block1', 'run11_block2',\n",
       "       'run11_block3', 'run12_block1', 'run12_block2', 'run12_block3',\n",
       "       'run13_block1', 'run13_block2', 'run13_block3', 'run14_block1',\n",
       "       'run14_block2', 'run14_block3'], dtype=object)"
      ]
     },
     "execution_count": 46,
     "metadata": {},
     "output_type": "execute_result"
    }
   ],
   "source": [
    "df_merged.columns\n",
    "df_merged.block_iter_corr.unique()\n"
   ]
  },
  {
   "cell_type": "markdown",
   "metadata": {},
   "source": [
    "# Fig. 1- Subplot Components"
   ]
  },
  {
   "cell_type": "markdown",
   "metadata": {},
   "source": [
    "### Fig 1. Panel A- Accuracy Over Runs"
   ]
  },
  {
   "cell_type": "code",
   "execution_count": 291,
   "metadata": {},
   "outputs": [
    {
     "name": "stderr",
     "output_type": "stream",
     "text": [
      "No handles with labels found to put in legend.\n"
     ]
    },
    {
     "data": {
      "image/png": "[encoded data removed]",
      "text/plain": [
       "<Figure size 921.6x633.6 with 1 Axes>"
      ]
     },
     "metadata": {
      "needs_background": "light"
     },
     "output_type": "display_data"
    }
   ],
   "source": [
    "\n",
    "fig1A= vis.plot_acc(dataframe=df_sess, x='sess', hue = None, \n",
    "                    x_title = \"Session Number\", save_title = \"Fig1A.png\")"
   ]
  },
  {
   "cell_type": "markdown",
   "metadata": {},
   "source": [
    "### T-test of significance for accuracy differences between sess1 and sess2 across all participants"
   ]
  },
  {
   "cell_type": "code",
   "execution_count": 289,
   "metadata": {},
   "outputs": [
    {
     "name": "stdout",
     "output_type": "stream",
     "text": [
      "t(21)=-2.818418171589711, p=0.007396091061108679\n"
     ]
    }
   ],
   "source": [
    "# group by whichever variables you are interested\n",
    "# run a T-test\n",
    "# let's first run a T-test (i.e. one-way ANOVA on RT diff between patient and control)\n",
    "df_sess = df_merged.groupby(['subj', 'sess'])['corr_resp'].mean().reset_index()\n",
    "sess1_acc = df_sess.query('sess == 1')['corr_resp']\n",
    "sess2_acc = df_sess.query('sess == 2')['corr_resp']\n",
    "t, p = ttest_ind(sess1_acc, sess2_acc)\n",
    "print(f't(21)={t}, p={p}') "
   ]
  },
  {
   "cell_type": "code",
   "execution_count": 299,
   "metadata": {},
   "outputs": [
    {
     "data": {
      "text/html": [
       "<div>\n",
       "<style scoped>\n",
       "    .dataframe tbody tr th:only-of-type {\n",
       "        vertical-align: middle;\n",
       "    }\n",
       "\n",
       "    .dataframe tbody tr th {\n",
       "        vertical-align: top;\n",
       "    }\n",
       "\n",
       "    .dataframe thead th {\n",
       "        text-align: right;\n",
       "    }\n",
       "</style>\n",
       "<table border=\"1\" class=\"dataframe\">\n",
       "  <thead>\n",
       "    <tr style=\"text-align: right;\">\n",
       "      <th></th>\n",
       "      <th>subj</th>\n",
       "      <th>sess</th>\n",
       "      <th>corr_resp</th>\n",
       "    </tr>\n",
       "  </thead>\n",
       "  <tbody>\n",
       "    <tr>\n",
       "      <th>0</th>\n",
       "      <td>sAA</td>\n",
       "      <td>1</td>\n",
       "      <td>0.744935</td>\n",
       "    </tr>\n",
       "    <tr>\n",
       "      <th>1</th>\n",
       "      <td>sAA</td>\n",
       "      <td>2</td>\n",
       "      <td>0.748462</td>\n",
       "    </tr>\n",
       "    <tr>\n",
       "      <th>2</th>\n",
       "      <td>sAA1</td>\n",
       "      <td>1</td>\n",
       "      <td>0.678571</td>\n",
       "    </tr>\n",
       "    <tr>\n",
       "      <th>3</th>\n",
       "      <td>sAA1</td>\n",
       "      <td>2</td>\n",
       "      <td>0.797619</td>\n",
       "    </tr>\n",
       "    <tr>\n",
       "      <th>4</th>\n",
       "      <td>sAA2</td>\n",
       "      <td>1</td>\n",
       "      <td>0.734369</td>\n",
       "    </tr>\n",
       "    <tr>\n",
       "      <th>5</th>\n",
       "      <td>sAA2</td>\n",
       "      <td>2</td>\n",
       "      <td>0.738827</td>\n",
       "    </tr>\n",
       "    <tr>\n",
       "      <th>6</th>\n",
       "      <td>sAE</td>\n",
       "      <td>1</td>\n",
       "      <td>0.742407</td>\n",
       "    </tr>\n",
       "    <tr>\n",
       "      <th>7</th>\n",
       "      <td>sAE</td>\n",
       "      <td>2</td>\n",
       "      <td>0.780807</td>\n",
       "    </tr>\n",
       "    <tr>\n",
       "      <th>8</th>\n",
       "      <td>sAO</td>\n",
       "      <td>1</td>\n",
       "      <td>0.727772</td>\n",
       "    </tr>\n",
       "    <tr>\n",
       "      <th>9</th>\n",
       "      <td>sAO</td>\n",
       "      <td>2</td>\n",
       "      <td>0.763885</td>\n",
       "    </tr>\n",
       "    <tr>\n",
       "      <th>10</th>\n",
       "      <td>sAO1</td>\n",
       "      <td>1</td>\n",
       "      <td>0.685025</td>\n",
       "    </tr>\n",
       "    <tr>\n",
       "      <th>11</th>\n",
       "      <td>sAO1</td>\n",
       "      <td>2</td>\n",
       "      <td>0.703993</td>\n",
       "    </tr>\n",
       "    <tr>\n",
       "      <th>12</th>\n",
       "      <td>sEA</td>\n",
       "      <td>1</td>\n",
       "      <td>0.642857</td>\n",
       "    </tr>\n",
       "    <tr>\n",
       "      <th>13</th>\n",
       "      <td>sEA</td>\n",
       "      <td>2</td>\n",
       "      <td>0.746032</td>\n",
       "    </tr>\n",
       "    <tr>\n",
       "      <th>14</th>\n",
       "      <td>sEE</td>\n",
       "      <td>1</td>\n",
       "      <td>0.709635</td>\n",
       "    </tr>\n",
       "    <tr>\n",
       "      <th>15</th>\n",
       "      <td>sEE</td>\n",
       "      <td>2</td>\n",
       "      <td>0.755301</td>\n",
       "    </tr>\n",
       "    <tr>\n",
       "      <th>16</th>\n",
       "      <td>sEH</td>\n",
       "      <td>1</td>\n",
       "      <td>0.729992</td>\n",
       "    </tr>\n",
       "    <tr>\n",
       "      <th>17</th>\n",
       "      <td>sEH</td>\n",
       "      <td>2</td>\n",
       "      <td>0.780443</td>\n",
       "    </tr>\n",
       "    <tr>\n",
       "      <th>18</th>\n",
       "      <td>sEI</td>\n",
       "      <td>1</td>\n",
       "      <td>0.670628</td>\n",
       "    </tr>\n",
       "    <tr>\n",
       "      <th>19</th>\n",
       "      <td>sEO</td>\n",
       "      <td>1</td>\n",
       "      <td>0.687306</td>\n",
       "    </tr>\n",
       "    <tr>\n",
       "      <th>20</th>\n",
       "      <td>sEO</td>\n",
       "      <td>2</td>\n",
       "      <td>0.769844</td>\n",
       "    </tr>\n",
       "    <tr>\n",
       "      <th>21</th>\n",
       "      <td>sHU</td>\n",
       "      <td>1</td>\n",
       "      <td>0.773117</td>\n",
       "    </tr>\n",
       "    <tr>\n",
       "      <th>22</th>\n",
       "      <td>sHU</td>\n",
       "      <td>2</td>\n",
       "      <td>0.877367</td>\n",
       "    </tr>\n",
       "    <tr>\n",
       "      <th>23</th>\n",
       "      <td>sIU</td>\n",
       "      <td>1</td>\n",
       "      <td>0.678862</td>\n",
       "    </tr>\n",
       "    <tr>\n",
       "      <th>24</th>\n",
       "      <td>sIU</td>\n",
       "      <td>2</td>\n",
       "      <td>0.775827</td>\n",
       "    </tr>\n",
       "    <tr>\n",
       "      <th>25</th>\n",
       "      <td>sIU1</td>\n",
       "      <td>1</td>\n",
       "      <td>0.742767</td>\n",
       "    </tr>\n",
       "    <tr>\n",
       "      <th>26</th>\n",
       "      <td>sIU1</td>\n",
       "      <td>2</td>\n",
       "      <td>0.806107</td>\n",
       "    </tr>\n",
       "    <tr>\n",
       "      <th>27</th>\n",
       "      <td>sLG</td>\n",
       "      <td>1</td>\n",
       "      <td>0.691057</td>\n",
       "    </tr>\n",
       "    <tr>\n",
       "      <th>28</th>\n",
       "      <td>sLG</td>\n",
       "      <td>2</td>\n",
       "      <td>0.710145</td>\n",
       "    </tr>\n",
       "    <tr>\n",
       "      <th>29</th>\n",
       "      <td>sML</td>\n",
       "      <td>1</td>\n",
       "      <td>0.561682</td>\n",
       "    </tr>\n",
       "    <tr>\n",
       "      <th>30</th>\n",
       "      <td>sML</td>\n",
       "      <td>2</td>\n",
       "      <td>0.558331</td>\n",
       "    </tr>\n",
       "    <tr>\n",
       "      <th>31</th>\n",
       "      <td>sNH</td>\n",
       "      <td>1</td>\n",
       "      <td>0.706380</td>\n",
       "    </tr>\n",
       "    <tr>\n",
       "      <th>32</th>\n",
       "      <td>sNH</td>\n",
       "      <td>2</td>\n",
       "      <td>0.731884</td>\n",
       "    </tr>\n",
       "    <tr>\n",
       "      <th>33</th>\n",
       "      <td>sOA</td>\n",
       "      <td>1</td>\n",
       "      <td>0.651973</td>\n",
       "    </tr>\n",
       "    <tr>\n",
       "      <th>34</th>\n",
       "      <td>sOA</td>\n",
       "      <td>2</td>\n",
       "      <td>0.691312</td>\n",
       "    </tr>\n",
       "    <tr>\n",
       "      <th>35</th>\n",
       "      <td>sON</td>\n",
       "      <td>1</td>\n",
       "      <td>0.750000</td>\n",
       "    </tr>\n",
       "    <tr>\n",
       "      <th>36</th>\n",
       "      <td>sON</td>\n",
       "      <td>2</td>\n",
       "      <td>0.738095</td>\n",
       "    </tr>\n",
       "    <tr>\n",
       "      <th>37</th>\n",
       "      <td>sRH</td>\n",
       "      <td>1</td>\n",
       "      <td>0.665034</td>\n",
       "    </tr>\n",
       "    <tr>\n",
       "      <th>38</th>\n",
       "      <td>sRH</td>\n",
       "      <td>2</td>\n",
       "      <td>0.726190</td>\n",
       "    </tr>\n",
       "    <tr>\n",
       "      <th>39</th>\n",
       "      <td>sRO</td>\n",
       "      <td>1</td>\n",
       "      <td>0.624956</td>\n",
       "    </tr>\n",
       "    <tr>\n",
       "      <th>40</th>\n",
       "      <td>sRO</td>\n",
       "      <td>2</td>\n",
       "      <td>0.719080</td>\n",
       "    </tr>\n",
       "    <tr>\n",
       "      <th>41</th>\n",
       "      <td>sSE</td>\n",
       "      <td>1</td>\n",
       "      <td>0.715347</td>\n",
       "    </tr>\n",
       "    <tr>\n",
       "      <th>42</th>\n",
       "      <td>sSE</td>\n",
       "      <td>2</td>\n",
       "      <td>0.690441</td>\n",
       "    </tr>\n",
       "  </tbody>\n",
       "</table>\n",
       "</div>"
      ],
      "text/plain": [
       "    subj  sess  corr_resp\n",
       "0    sAA     1   0.744935\n",
       "1    sAA     2   0.748462\n",
       "2   sAA1     1   0.678571\n",
       "3   sAA1     2   0.797619\n",
       "4   sAA2     1   0.734369\n",
       "5   sAA2     2   0.738827\n",
       "6    sAE     1   0.742407\n",
       "7    sAE     2   0.780807\n",
       "8    sAO     1   0.727772\n",
       "9    sAO     2   0.763885\n",
       "10  sAO1     1   0.685025\n",
       "11  sAO1     2   0.703993\n",
       "12   sEA     1   0.642857\n",
       "13   sEA     2   0.746032\n",
       "14   sEE     1   0.709635\n",
       "15   sEE     2   0.755301\n",
       "16   sEH     1   0.729992\n",
       "17   sEH     2   0.780443\n",
       "18   sEI     1   0.670628\n",
       "19   sEO     1   0.687306\n",
       "20   sEO     2   0.769844\n",
       "21   sHU     1   0.773117\n",
       "22   sHU     2   0.877367\n",
       "23   sIU     1   0.678862\n",
       "24   sIU     2   0.775827\n",
       "25  sIU1     1   0.742767\n",
       "26  sIU1     2   0.806107\n",
       "27   sLG     1   0.691057\n",
       "28   sLG     2   0.710145\n",
       "29   sML     1   0.561682\n",
       "30   sML     2   0.558331\n",
       "31   sNH     1   0.706380\n",
       "32   sNH     2   0.731884\n",
       "33   sOA     1   0.651973\n",
       "34   sOA     2   0.691312\n",
       "35   sON     1   0.750000\n",
       "36   sON     2   0.738095\n",
       "37   sRH     1   0.665034\n",
       "38   sRH     2   0.726190\n",
       "39   sRO     1   0.624956\n",
       "40   sRO     2   0.719080\n",
       "41   sSE     1   0.715347\n",
       "42   sSE     2   0.690441"
      ]
     },
     "execution_count": 299,
     "metadata": {},
     "output_type": "execute_result"
    }
   ],
   "source": [
    "df_sess"
   ]
  },
  {
   "cell_type": "markdown",
   "metadata": {},
   "source": [
    "### Fig 1. Panel B- Accuracy Change Over Runs By Condition Name"
   ]
  },
  {
   "cell_type": "code",
   "execution_count": 64,
   "metadata": {},
   "outputs": [
    {
     "data": {
      "image/png": "[encoded data removed]",
      "text/plain": [
       "<Figure size 360x360 with 1 Axes>"
      ]
     },
     "metadata": {
      "needs_background": "light"
     },
     "output_type": "display_data"
    }
   ],
   "source": [
    "\n",
    "vis.plot_acc(dataframe=df_behav, x='run_num', \n",
    "                    hue= 'condition_name', hue_order = ['easy', 'hard'], palette = ['#1c9099', '#e34a33'],\n",
    "                    x_title= \"Run Number\", legend_title = \"Condition Name\", save_title = 'posterfig1A.png')\n"
   ]
  },
  {
   "cell_type": "code",
   "execution_count": 103,
   "metadata": {},
   "outputs": [
    {
     "name": "stdout",
     "output_type": "stream",
     "text": [
      "F=58.35641808165899, p=1.7963828982136173e-09\n"
     ]
    }
   ],
   "source": [
    "import pandas as pd\n",
    "from scipy.stats import f_oneway\n",
    "# group by whichever variables you are interested\n",
    "df_grouped = df_merged.groupby(['subj', 'condition_name'])['corr_resp'].mean().reset_index()\n",
    "# run an F test\n",
    "# let's first run an F test (i.e. one-way ANOVA on RT diff between patient and control)\n",
    "easy_acc = df_grouped.query('condition_name==\"easy\"')['corr_resp']\n",
    "hard_acc = df_grouped.query('condition_name==\"hard\"')['corr_resp']\n",
    "F, p = f_oneway(easy_acc, hard_acc)\n",
    "print(f'F={F}, p={p}')"
   ]
  },
  {
   "cell_type": "code",
   "execution_count": 222,
   "metadata": {},
   "outputs": [
    {
     "data": {
      "text/html": [
       "<div>\n",
       "<style scoped>\n",
       "    .dataframe tbody tr th:only-of-type {\n",
       "        vertical-align: middle;\n",
       "    }\n",
       "\n",
       "    .dataframe tbody tr th {\n",
       "        vertical-align: top;\n",
       "    }\n",
       "\n",
       "    .dataframe thead th {\n",
       "        text-align: right;\n",
       "    }\n",
       "</style>\n",
       "<table border=\"1\" class=\"dataframe\">\n",
       "  <thead>\n",
       "    <tr style=\"text-align: right;\">\n",
       "      <th></th>\n",
       "      <th>subj</th>\n",
       "      <th>condition_name</th>\n",
       "      <th>corr_resp</th>\n",
       "    </tr>\n",
       "  </thead>\n",
       "  <tbody>\n",
       "    <tr>\n",
       "      <th>0</th>\n",
       "      <td>sAA</td>\n",
       "      <td>easy</td>\n",
       "      <td>0.831573</td>\n",
       "    </tr>\n",
       "    <tr>\n",
       "      <th>1</th>\n",
       "      <td>sAA</td>\n",
       "      <td>hard</td>\n",
       "      <td>0.662605</td>\n",
       "    </tr>\n",
       "    <tr>\n",
       "      <th>2</th>\n",
       "      <td>sAA1</td>\n",
       "      <td>easy</td>\n",
       "      <td>0.809524</td>\n",
       "    </tr>\n",
       "    <tr>\n",
       "      <th>3</th>\n",
       "      <td>sAA1</td>\n",
       "      <td>hard</td>\n",
       "      <td>0.666667</td>\n",
       "    </tr>\n",
       "    <tr>\n",
       "      <th>4</th>\n",
       "      <td>sAA2</td>\n",
       "      <td>easy</td>\n",
       "      <td>0.792548</td>\n",
       "    </tr>\n",
       "    <tr>\n",
       "      <th>5</th>\n",
       "      <td>sAA2</td>\n",
       "      <td>hard</td>\n",
       "      <td>0.681410</td>\n",
       "    </tr>\n",
       "    <tr>\n",
       "      <th>6</th>\n",
       "      <td>sAE</td>\n",
       "      <td>easy</td>\n",
       "      <td>0.813583</td>\n",
       "    </tr>\n",
       "    <tr>\n",
       "      <th>7</th>\n",
       "      <td>sAE</td>\n",
       "      <td>hard</td>\n",
       "      <td>0.709768</td>\n",
       "    </tr>\n",
       "    <tr>\n",
       "      <th>8</th>\n",
       "      <td>sAO</td>\n",
       "      <td>easy</td>\n",
       "      <td>0.802030</td>\n",
       "    </tr>\n",
       "    <tr>\n",
       "      <th>9</th>\n",
       "      <td>sAO</td>\n",
       "      <td>hard</td>\n",
       "      <td>0.689730</td>\n",
       "    </tr>\n",
       "    <tr>\n",
       "      <th>10</th>\n",
       "      <td>sAO1</td>\n",
       "      <td>easy</td>\n",
       "      <td>0.774665</td>\n",
       "    </tr>\n",
       "    <tr>\n",
       "      <th>11</th>\n",
       "      <td>sAO1</td>\n",
       "      <td>hard</td>\n",
       "      <td>0.613793</td>\n",
       "    </tr>\n",
       "    <tr>\n",
       "      <th>12</th>\n",
       "      <td>sEA</td>\n",
       "      <td>easy</td>\n",
       "      <td>0.765873</td>\n",
       "    </tr>\n",
       "    <tr>\n",
       "      <th>13</th>\n",
       "      <td>sEA</td>\n",
       "      <td>hard</td>\n",
       "      <td>0.623016</td>\n",
       "    </tr>\n",
       "    <tr>\n",
       "      <th>14</th>\n",
       "      <td>sEE</td>\n",
       "      <td>easy</td>\n",
       "      <td>0.759567</td>\n",
       "    </tr>\n",
       "    <tr>\n",
       "      <th>15</th>\n",
       "      <td>sEE</td>\n",
       "      <td>hard</td>\n",
       "      <td>0.703987</td>\n",
       "    </tr>\n",
       "    <tr>\n",
       "      <th>16</th>\n",
       "      <td>sEH</td>\n",
       "      <td>easy</td>\n",
       "      <td>0.832472</td>\n",
       "    </tr>\n",
       "    <tr>\n",
       "      <th>17</th>\n",
       "      <td>sEH</td>\n",
       "      <td>hard</td>\n",
       "      <td>0.684444</td>\n",
       "    </tr>\n",
       "    <tr>\n",
       "      <th>18</th>\n",
       "      <td>sEI</td>\n",
       "      <td>easy</td>\n",
       "      <td>0.706897</td>\n",
       "    </tr>\n",
       "    <tr>\n",
       "      <th>19</th>\n",
       "      <td>sEI</td>\n",
       "      <td>hard</td>\n",
       "      <td>0.635452</td>\n",
       "    </tr>\n",
       "    <tr>\n",
       "      <th>20</th>\n",
       "      <td>sEO</td>\n",
       "      <td>easy</td>\n",
       "      <td>0.813342</td>\n",
       "    </tr>\n",
       "    <tr>\n",
       "      <th>21</th>\n",
       "      <td>sEO</td>\n",
       "      <td>hard</td>\n",
       "      <td>0.640811</td>\n",
       "    </tr>\n",
       "    <tr>\n",
       "      <th>22</th>\n",
       "      <td>sHU</td>\n",
       "      <td>easy</td>\n",
       "      <td>0.906409</td>\n",
       "    </tr>\n",
       "    <tr>\n",
       "      <th>23</th>\n",
       "      <td>sHU</td>\n",
       "      <td>hard</td>\n",
       "      <td>0.759649</td>\n",
       "    </tr>\n",
       "    <tr>\n",
       "      <th>24</th>\n",
       "      <td>sIU</td>\n",
       "      <td>easy</td>\n",
       "      <td>0.808944</td>\n",
       "    </tr>\n",
       "    <tr>\n",
       "      <th>25</th>\n",
       "      <td>sIU</td>\n",
       "      <td>hard</td>\n",
       "      <td>0.650091</td>\n",
       "    </tr>\n",
       "    <tr>\n",
       "      <th>26</th>\n",
       "      <td>sIU1</td>\n",
       "      <td>easy</td>\n",
       "      <td>0.884129</td>\n",
       "    </tr>\n",
       "    <tr>\n",
       "      <th>27</th>\n",
       "      <td>sIU1</td>\n",
       "      <td>hard</td>\n",
       "      <td>0.668682</td>\n",
       "    </tr>\n",
       "    <tr>\n",
       "      <th>28</th>\n",
       "      <td>sLG</td>\n",
       "      <td>easy</td>\n",
       "      <td>0.681730</td>\n",
       "    </tr>\n",
       "    <tr>\n",
       "      <th>29</th>\n",
       "      <td>sLG</td>\n",
       "      <td>hard</td>\n",
       "      <td>0.716842</td>\n",
       "    </tr>\n",
       "    <tr>\n",
       "      <th>30</th>\n",
       "      <td>sML</td>\n",
       "      <td>easy</td>\n",
       "      <td>0.621534</td>\n",
       "    </tr>\n",
       "    <tr>\n",
       "      <th>31</th>\n",
       "      <td>sML</td>\n",
       "      <td>hard</td>\n",
       "      <td>0.500287</td>\n",
       "    </tr>\n",
       "    <tr>\n",
       "      <th>32</th>\n",
       "      <td>sNH</td>\n",
       "      <td>easy</td>\n",
       "      <td>0.804716</td>\n",
       "    </tr>\n",
       "    <tr>\n",
       "      <th>33</th>\n",
       "      <td>sNH</td>\n",
       "      <td>hard</td>\n",
       "      <td>0.636635</td>\n",
       "    </tr>\n",
       "    <tr>\n",
       "      <th>34</th>\n",
       "      <td>sOA</td>\n",
       "      <td>easy</td>\n",
       "      <td>0.761887</td>\n",
       "    </tr>\n",
       "    <tr>\n",
       "      <th>35</th>\n",
       "      <td>sOA</td>\n",
       "      <td>hard</td>\n",
       "      <td>0.588778</td>\n",
       "    </tr>\n",
       "    <tr>\n",
       "      <th>36</th>\n",
       "      <td>sON</td>\n",
       "      <td>easy</td>\n",
       "      <td>0.824786</td>\n",
       "    </tr>\n",
       "    <tr>\n",
       "      <th>37</th>\n",
       "      <td>sON</td>\n",
       "      <td>hard</td>\n",
       "      <td>0.662393</td>\n",
       "    </tr>\n",
       "    <tr>\n",
       "      <th>38</th>\n",
       "      <td>sRH</td>\n",
       "      <td>easy</td>\n",
       "      <td>0.815257</td>\n",
       "    </tr>\n",
       "    <tr>\n",
       "      <th>39</th>\n",
       "      <td>sRH</td>\n",
       "      <td>hard</td>\n",
       "      <td>0.542289</td>\n",
       "    </tr>\n",
       "    <tr>\n",
       "      <th>40</th>\n",
       "      <td>sRO</td>\n",
       "      <td>easy</td>\n",
       "      <td>0.744203</td>\n",
       "    </tr>\n",
       "    <tr>\n",
       "      <th>41</th>\n",
       "      <td>sRO</td>\n",
       "      <td>hard</td>\n",
       "      <td>0.595737</td>\n",
       "    </tr>\n",
       "    <tr>\n",
       "      <th>42</th>\n",
       "      <td>sSE</td>\n",
       "      <td>easy</td>\n",
       "      <td>0.770815</td>\n",
       "    </tr>\n",
       "    <tr>\n",
       "      <th>43</th>\n",
       "      <td>sSE</td>\n",
       "      <td>hard</td>\n",
       "      <td>0.635762</td>\n",
       "    </tr>\n",
       "  </tbody>\n",
       "</table>\n",
       "</div>"
      ],
      "text/plain": [
       "    subj condition_name  corr_resp\n",
       "0    sAA           easy   0.831573\n",
       "1    sAA           hard   0.662605\n",
       "2   sAA1           easy   0.809524\n",
       "3   sAA1           hard   0.666667\n",
       "4   sAA2           easy   0.792548\n",
       "5   sAA2           hard   0.681410\n",
       "6    sAE           easy   0.813583\n",
       "7    sAE           hard   0.709768\n",
       "8    sAO           easy   0.802030\n",
       "9    sAO           hard   0.689730\n",
       "10  sAO1           easy   0.774665\n",
       "11  sAO1           hard   0.613793\n",
       "12   sEA           easy   0.765873\n",
       "13   sEA           hard   0.623016\n",
       "14   sEE           easy   0.759567\n",
       "15   sEE           hard   0.703987\n",
       "16   sEH           easy   0.832472\n",
       "17   sEH           hard   0.684444\n",
       "18   sEI           easy   0.706897\n",
       "19   sEI           hard   0.635452\n",
       "20   sEO           easy   0.813342\n",
       "21   sEO           hard   0.640811\n",
       "22   sHU           easy   0.906409\n",
       "23   sHU           hard   0.759649\n",
       "24   sIU           easy   0.808944\n",
       "25   sIU           hard   0.650091\n",
       "26  sIU1           easy   0.884129\n",
       "27  sIU1           hard   0.668682\n",
       "28   sLG           easy   0.681730\n",
       "29   sLG           hard   0.716842\n",
       "30   sML           easy   0.621534\n",
       "31   sML           hard   0.500287\n",
       "32   sNH           easy   0.804716\n",
       "33   sNH           hard   0.636635\n",
       "34   sOA           easy   0.761887\n",
       "35   sOA           hard   0.588778\n",
       "36   sON           easy   0.824786\n",
       "37   sON           hard   0.662393\n",
       "38   sRH           easy   0.815257\n",
       "39   sRH           hard   0.542289\n",
       "40   sRO           easy   0.744203\n",
       "41   sRO           hard   0.595737\n",
       "42   sSE           easy   0.770815\n",
       "43   sSE           hard   0.635762"
      ]
     },
     "execution_count": 222,
     "metadata": {},
     "output_type": "execute_result"
    }
   ],
   "source": [
    "df_grouped"
   ]
  },
  {
   "cell_type": "code",
   "execution_count": 74,
   "metadata": {},
   "outputs": [
    {
     "name": "stderr",
     "output_type": "stream",
     "text": [
      "No handles with labels found to put in legend.\n"
     ]
    },
    {
     "data": {
      "image/png": "[encoded data removed]",
      "text/plain": [
       "<Figure size 921.6x633.6 with 1 Axes>"
      ]
     },
     "metadata": {
      "needs_background": "light"
     },
     "output_type": "display_data"
    }
   ],
   "source": [
    "vis.plot_acc(dataframe=df_behav, x='condition_name', hue_order = ['easy', 'hard'], palette = ['#1c9099', '#e34a33'],\n",
    "                    x_title= \"Condition Name\", save_title = 'posterfig1B.png')                         "
   ]
  },
  {
   "cell_type": "code",
   "execution_count": 104,
   "metadata": {},
   "outputs": [
    {
     "name": "stdout",
     "output_type": "stream",
     "text": [
      "t(20)=7.639137260297062, p=1.7963828982136483e-09\n"
     ]
    }
   ],
   "source": [
    "import pandas as pd\n",
    "from scipy.stats import ttest_ind\n",
    "# group by whichever variables you are interested\n",
    "df_grouped = df_merged.groupby(['subj', 'condition_name'])['corr_resp'].mean().reset_index()\n",
    "# run a T-test\n",
    "# let's first run a T-test (i.e. one-way ANOVA on RT diff between patient and control)\n",
    "easy_acc = df_grouped.query('condition_name==\"easy\"')['corr_resp']\n",
    "hard_acc = df_grouped.query('condition_name==\"hard\"')['corr_resp']\n",
    "t, p = ttest_ind(easy_acc, hard_acc)\n",
    "print(f't(20)={t}, p={p}')"
   ]
  },
  {
   "cell_type": "markdown",
   "metadata": {},
   "source": [
    "### Fig 1. Panel C- Reaction Time Over Runs"
   ]
  },
  {
   "cell_type": "code",
   "execution_count": 76,
   "metadata": {},
   "outputs": [
    {
     "name": "stderr",
     "output_type": "stream",
     "text": [
      "No handles with labels found to put in legend.\n"
     ]
    },
    {
     "data": {
      "image/png": "[encoded data removed]",
      "text/plain": [
       "<Figure size 360x360 with 1 Axes>"
      ]
     },
     "metadata": {
      "needs_background": "light"
     },
     "output_type": "display_data"
    }
   ],
   "source": [
    "fig1C = vis.plot_rt(dataframe=df_behav, x='run_num', hue= None, \n",
    "                   x_title= \"Run Number\", save_title = 'fig1C.png', fig_title = None)"
   ]
  },
  {
   "cell_type": "markdown",
   "metadata": {},
   "source": [
    "T-test of significance for reaction time differences between sess1 and sess2 across all participants"
   ]
  },
  {
   "cell_type": "code",
   "execution_count": 142,
   "metadata": {},
   "outputs": [
    {
     "name": "stdout",
     "output_type": "stream",
     "text": [
      "t(21)=2.5674862138271397, p=0.013988262871575117\n"
     ]
    }
   ],
   "source": [
    "df_rt = df_merged.groupby(['subj', 'sess'])['rt'].mean().reset_index()\n",
    "sess1_rt = df_rt.query('sess == 1')['rt']\n",
    "sess2_rt = df_rt.query('sess == 2')['rt']\n",
    "t, p = ttest_ind(sess1_rt, sess2_rt)\n",
    "print(f't(21)={t}, p={p}') "
   ]
  },
  {
   "cell_type": "code",
   "execution_count": 247,
   "metadata": {},
   "outputs": [
    {
     "data": {
      "text/plain": [
       "0     1.360163\n",
       "2     1.411931\n",
       "4     1.353369\n",
       "6     1.353976\n",
       "8     1.332485\n",
       "10    1.359642\n",
       "12    1.312179\n",
       "14    1.286712\n",
       "16    1.384946\n",
       "18    1.168748\n",
       "19    1.301800\n",
       "21    1.327807\n",
       "23    1.367488\n",
       "25    1.252459\n",
       "27    1.338204\n",
       "29    1.233704\n",
       "31    1.332998\n",
       "33    1.359674\n",
       "35    1.347598\n",
       "37    1.284522\n",
       "39    1.189502\n",
       "41    1.357902\n",
       "Name: rt, dtype: float64"
      ]
     },
     "execution_count": 247,
     "metadata": {},
     "output_type": "execute_result"
    }
   ],
   "source": [
    "sess1_rt"
   ]
  },
  {
   "cell_type": "code",
   "execution_count": 183,
   "metadata": {},
   "outputs": [
    {
     "data": {
      "text/plain": [
       "array([[1.       , 0.1943921],\n",
       "       [0.1943921, 1.       ]])"
      ]
     },
     "execution_count": 183,
     "metadata": {},
     "output_type": "execute_result"
    }
   ],
   "source": [
    "df_rt_acc = df_merged.groupby(['subj', 'sess']).agg({'rt': 'mean', 'corr_resp': 'mean'}).reset_index(drop=True)\n",
    "df_rt_acc\n",
    "np.corrcoef(df_rt_acc['corr_resp'], df_rt_acc['rt'])"
   ]
  },
  {
   "cell_type": "code",
   "execution_count": 184,
   "metadata": {},
   "outputs": [
    {
     "data": {
      "text/plain": [
       "(0.19439210479793692, 0.21162536141305924)"
      ]
     },
     "execution_count": 184,
     "metadata": {},
     "output_type": "execute_result"
    }
   ],
   "source": [
    "from scipy.stats import pearsonr\n",
    "corr, p = pearsonr(df_rt_acc['corr_resp'], df_rt_acc['rt'])\n",
    "corr, p\n",
    "\n"
   ]
  },
  {
   "cell_type": "code",
   "execution_count": 185,
   "metadata": {
    "scrolled": false
   },
   "outputs": [
    {
     "data": {
      "text/plain": [
       "<seaborn.axisgrid.FacetGrid at 0x12c051dd0>"
      ]
     },
     "execution_count": 185,
     "metadata": {},
     "output_type": "execute_result"
    },
    {
     "data": {
      "image/png": "[encoded data removed]",
      "text/plain": [
       "<Figure size 360x360 with 1 Axes>"
      ]
     },
     "metadata": {
      "needs_background": "light"
     },
     "output_type": "display_data"
    }
   ],
   "source": [
    "sns.lmplot(x='rt', y='corr_resp', data=df_rt_acc)"
   ]
  },
  {
   "cell_type": "markdown",
   "metadata": {},
   "source": [
    "### There is a weak positive correlation between rt and accuracy. The reported Pearson correlation coefficient is insignificant. This association suggests no evidence of a participant speed-accuracy tradeoff, meaning that people did not slow their reaction times in order to achieve higher accuracy. \n",
    "\n",
    "\n"
   ]
  },
  {
   "cell_type": "markdown",
   "metadata": {},
   "source": [
    "# Fig. 2 Subplot Components"
   ]
  },
  {
   "cell_type": "markdown",
   "metadata": {},
   "source": [
    "Fig 2- Eyetracking Data- Panel a (Fixation, saccade, blink count averages ** also note that we aren't using blink info), b (fixation counts and saccade counts over runs), c) fixation duration (fixation) over runs, d) amplitude (saccades) over runs\n",
    "\n",
    "Can also prepare supplemental figures- maybe include more on velocity, dispersion, etc here"
   ]
  },
  {
   "cell_type": "markdown",
   "metadata": {},
   "source": [
    "### Fig. 2 Panel A- Eye Movement Averages"
   ]
  },
  {
   "cell_type": "code",
   "execution_count": null,
   "metadata": {},
   "outputs": [],
   "source": [
    "\n",
    "#look into label and condition, initiator + label, etc"
   ]
  },
  {
   "cell_type": "code",
   "execution_count": null,
   "metadata": {},
   "outputs": [],
   "source": [
    "#df_merged.groupby(['type', 'subj', 'initiator'])[\"type\"].count().reset_index(name='count')"
   ]
  },
  {
   "cell_type": "code",
   "execution_count": 262,
   "metadata": {},
   "outputs": [
    {
     "data": {
      "image/png": "[encoded data removed]",
      "text/plain": [
       "<Figure size 921.6x633.6 with 1 Axes>"
      ]
     },
     "metadata": {
      "needs_background": "light"
     },
     "output_type": "display_data"
    }
   ],
   "source": [
    "fig_2A =vis.plot_all_count(df_merged, x='type', hue=None, fig_title = \"Fig. 2A\", save_title = \"fig2A.png\")\n",
    "\n",
    "#avg number of counts across runs and sessions for each subject\n",
    "#average count, error bars show variation between indiv. subjects"
   ]
  },
  {
   "cell_type": "markdown",
   "metadata": {},
   "source": [
    " ### Fig. 2 Panel B- Fixation Counts over Runs"
   ]
  },
  {
   "cell_type": "code",
   "execution_count": 264,
   "metadata": {},
   "outputs": [
    {
     "name": "stdout",
     "output_type": "stream",
     "text": [
      "t(21)=13.164844822575125, p=2.503339608439022e-15\n"
     ]
    }
   ],
   "source": [
    "df_eyecount = df_merged.groupby(['subj', 'type'])[\"type\"].count().reset_index(name='count') \n",
    "df_eyecount\n",
    "fix_count = df_eyecount.query('type ==\"fixations\"')['count']\n",
    "saccade_count = df_eyecount.query('type == \"saccade\"')['count']\n",
    "t, p = ttest_ind(fix_count, saccade_count)\n",
    "print(f't(21)={t}, p={p}') \n",
    "\n"
   ]
  },
  {
   "cell_type": "code",
   "execution_count": 265,
   "metadata": {
    "scrolled": false
   },
   "outputs": [
    {
     "data": {
      "image/png": "[encoded data removed]",
      "text/plain": [
       "<Figure size 360x360 with 1 Axes>"
      ]
     },
     "metadata": {
      "needs_background": "light"
     },
     "output_type": "display_data"
    }
   ],
   "source": [
    "fig2B = vis.plot_fixation_count(df_merged, x='run_num', hue=None, x_title = \"Run Number\", fig_title = 'Fig. 2B', save_title = \"fig2B.png\")\n",
    "                                \n",
    "                                "
   ]
  },
  {
   "cell_type": "code",
   "execution_count": 271,
   "metadata": {},
   "outputs": [
    {
     "name": "stdout",
     "output_type": "stream",
     "text": [
      "t(21)=-1.232178789150228, p=0.22633577533584956\n"
     ]
    }
   ],
   "source": [
    "df_fixcount = df_merged.groupby(['subj','sess', 'type'])[\"type\"].count().reset_index(name='count').query('type==\"fixations\"')\n",
    "df_fixcount\n",
    "sess1_fix = df_fixcount.query('sess == 1')['count']\n",
    "sess2_fix = df_fixcount.query('sess == 2')['count']\n",
    "t, p = ttest_ind(sess1_fix, sess2_fix)\n",
    "print(f't(21)={t}, p={p}') "
   ]
  },
  {
   "cell_type": "markdown",
   "metadata": {},
   "source": [
    " ### Fig. 2 Panel C- Saccade Counts over Runs"
   ]
  },
  {
   "cell_type": "code",
   "execution_count": null,
   "metadata": {},
   "outputs": [],
   "source": [
    "fig2C =vis.plot_saccade_count(df_merged, x='run_num', hue=None, x_title = \"Run Number\", fig_title = \"Fig. 2C\", save_title = 'fig2C.png')"
   ]
  },
  {
   "cell_type": "markdown",
   "metadata": {},
   "source": [
    " ### Fig. 2 Panel D- Fixation Duration over Runs"
   ]
  },
  {
   "cell_type": "code",
   "execution_count": 275,
   "metadata": {
    "scrolled": true
   },
   "outputs": [
    {
     "data": {
      "image/png": "[encoded data removed]",
      "text/plain": [
       "<Figure size 360x360 with 1 Axes>"
      ]
     },
     "metadata": {
      "needs_background": "light"
     },
     "output_type": "display_data"
    }
   ],
   "source": [
    "fig2D =vis.plot_fixation_duration(df_merged, x='run_num', hue=None, x_title =\"Run Number\", fig_title = \"Fig. 2D\", save_title = 'fig2D.png')"
   ]
  },
  {
   "cell_type": "code",
   "execution_count": 285,
   "metadata": {},
   "outputs": [
    {
     "name": "stdout",
     "output_type": "stream",
     "text": [
      "t(21)=-1.0386878686254426, p=0.30628059341617764\n"
     ]
    }
   ],
   "source": [
    "df_fixdur = df_merged.query('type==\"fixations\"').groupby(['subj','sess'])['duration'].mean().reset_index()\n",
    "df_fixdur\n",
    "sess1_fixdur = df_fixdur.query('sess == 1')['duration']\n",
    "sess2_fixdur = df_fixdur.query('sess == 2')['duration']\n",
    "t, p = ttest_ind(sess1_fixdur, sess2_fixdur)\n",
    "print(f't(21)={t}, p={p}') "
   ]
  },
  {
   "cell_type": "markdown",
   "metadata": {},
   "source": [
    "# Question 2 Analysis "
   ]
  },
  {
   "cell_type": "markdown",
   "metadata": {},
   "source": [
    "### EXAMPLE: Two-way repeated measure ANOVA"
   ]
  },
  {
   "cell_type": "code",
   "execution_count": 307,
   "metadata": {},
   "outputs": [
    {
     "name": "stdout",
     "output_type": "stream",
     "text": [
      "                 Anova\n",
      "========================================\n",
      "          F Value  Num DF  Den DF Pr > F\n",
      "----------------------------------------\n",
      "time      158.6573 4.0000 16.0000 0.0000\n",
      "year        3.6000 1.0000  4.0000 0.1306\n",
      "time:year   1.4545 4.0000 16.0000 0.2621\n",
      "========================================\n",
      "\n"
     ]
    }
   ],
   "source": [
    "df_plant=pd.read_csv(\"https://reneshbedre.github.io/assets/posts/anova/plants_leaves_two_within.csv\")\n",
    "from statsmodels.stats.anova import AnovaRM\n",
    "res=AnovaRM(data=df, depvar='num_leaves', within=['time', 'year'], subject='plants')\n",
    "print(res.fit())"
   ]
  },
  {
   "cell_type": "code",
   "execution_count": 89,
   "metadata": {},
   "outputs": [],
   "source": [
    "df_behav[\"initiator_condition_name\"]= df_behav[\"initiator\"] + \"_\" + df_behav[\"condition_name\"] \n",
    "df_merged[\"initiator_condition_name\"]= df_merged[\"initiator\"] + \"_\" + df_merged[\"condition_name\"] \n",
    "#can use this method for combining variable conditions across any column\n",
    "\n",
    "df_behav[\"initiator_label\"]= df_behav[\"initiator\"] + \"_\" + df_behav[\"label\"] \n",
    "df_merged[\"initiator_label\"]= df_merged[\"initiator\"] + \"_\" + df_merged[\"label\"] "
   ]
  },
  {
   "cell_type": "markdown",
   "metadata": {},
   "source": [
    "### Plot: Accuracy by Label and Condition Name"
   ]
  },
  {
   "cell_type": "code",
   "execution_count": 311,
   "metadata": {
    "scrolled": true
   },
   "outputs": [
    {
     "data": {
      "image/png": "[encoded data removed]",
      "text/plain": [
       "<Figure size 921.6x633.6 with 1 Axes>"
      ]
     },
     "metadata": {
      "needs_background": "light"
     },
     "output_type": "display_data"
    }
   ],
   "source": [
    "#Fig 3, \n",
    "vis.plot_acc(dataframe=df_behav, x='label', hue= \"condition_name\", x_title = \"Label\", legend_title = \"Condition Name\", save_title = \"fig3A.png\", hue_order = [\"easy\", \"hard\"])\n",
    "#more of a control result, make figure with control results (ex. no accuracy/ rt tradeoff)"
   ]
  },
  {
   "cell_type": "code",
   "execution_count": 312,
   "metadata": {},
   "outputs": [],
   "source": [
    "df_lab_cond = df_merged.groupby(['subj', 'label', 'condition_name'])['corr_resp'].mean().reset_index()\n",
    "\n",
    "#df_lab_cond\n"
   ]
  },
  {
   "cell_type": "markdown",
   "metadata": {},
   "source": [
    "### Two-way repeated measure ANOVA\n",
    "IV: Accuracy\n",
    "\n",
    "DV: label, condition_name"
   ]
  },
  {
   "cell_type": "code",
   "execution_count": 314,
   "metadata": {},
   "outputs": [
    {
     "name": "stdout",
     "output_type": "stream",
     "text": [
      "                       Anova\n",
      "===================================================\n",
      "                     F Value  Num DF  Den DF Pr > F\n",
      "---------------------------------------------------\n",
      "label                  0.1671 1.0000 21.0000 0.6869\n",
      "condition_name       120.6313 1.0000 21.0000 0.0000\n",
      "label:condition_name   2.8587 1.0000 21.0000 0.1057\n",
      "===================================================\n",
      "\n"
     ]
    }
   ],
   "source": [
    "res_lab_cond = AnovaRM(data=df_lab_cond, depvar='corr_resp', within=['label', 'condition_name'], subject='subj')\n",
    "print(res_lab_cond.fit())"
   ]
  },
  {
   "cell_type": "markdown",
   "metadata": {},
   "source": [
    "### Two-way (factorial design) ANOVA \n",
    "IV: Accuracy\n",
    "\n",
    "DV: label, condition_name"
   ]
  },
  {
   "cell_type": "code",
   "execution_count": 313,
   "metadata": {
    "scrolled": false
   },
   "outputs": [
    {
     "data": {
      "text/html": [
       "<div>\n",
       "<style scoped>\n",
       "    .dataframe tbody tr th:only-of-type {\n",
       "        vertical-align: middle;\n",
       "    }\n",
       "\n",
       "    .dataframe tbody tr th {\n",
       "        vertical-align: top;\n",
       "    }\n",
       "\n",
       "    .dataframe thead th {\n",
       "        text-align: right;\n",
       "    }\n",
       "</style>\n",
       "<table border=\"1\" class=\"dataframe\">\n",
       "  <thead>\n",
       "    <tr style=\"text-align: right;\">\n",
       "      <th></th>\n",
       "      <th>sum_sq</th>\n",
       "      <th>df</th>\n",
       "      <th>F</th>\n",
       "      <th>PR(&gt;F)</th>\n",
       "    </tr>\n",
       "  </thead>\n",
       "  <tbody>\n",
       "    <tr>\n",
       "      <th>C(label)</th>\n",
       "      <td>0.000838</td>\n",
       "      <td>1.0</td>\n",
       "      <td>0.156560</td>\n",
       "      <td>6.933467e-01</td>\n",
       "    </tr>\n",
       "    <tr>\n",
       "      <th>C(condition_name)</th>\n",
       "      <td>0.423470</td>\n",
       "      <td>1.0</td>\n",
       "      <td>79.106755</td>\n",
       "      <td>9.690259e-14</td>\n",
       "    </tr>\n",
       "    <tr>\n",
       "      <th>C(label):C(condition_name)</th>\n",
       "      <td>0.005375</td>\n",
       "      <td>1.0</td>\n",
       "      <td>1.004132</td>\n",
       "      <td>3.191907e-01</td>\n",
       "    </tr>\n",
       "    <tr>\n",
       "      <th>Residual</th>\n",
       "      <td>0.449664</td>\n",
       "      <td>84.0</td>\n",
       "      <td>NaN</td>\n",
       "      <td>NaN</td>\n",
       "    </tr>\n",
       "  </tbody>\n",
       "</table>\n",
       "</div>"
      ],
      "text/plain": [
       "                              sum_sq    df          F        PR(>F)\n",
       "C(label)                    0.000838   1.0   0.156560  6.933467e-01\n",
       "C(condition_name)           0.423470   1.0  79.106755  9.690259e-14\n",
       "C(label):C(condition_name)  0.005375   1.0   1.004132  3.191907e-01\n",
       "Residual                    0.449664  84.0        NaN           NaN"
      ]
     },
     "execution_count": 313,
     "metadata": {},
     "output_type": "execute_result"
    }
   ],
   "source": [
    "import statsmodels.api as sm\n",
    "from statsmodels.formula.api import ols\n",
    "df_lab_cond = df_merged.groupby(['subj', 'label', 'condition_name'])['corr_resp'].mean().reset_index()\n",
    "lab_cond_model = ols('corr_resp ~ C(label) + C(condition_name) + C(label):C(condition_name)', data=df_lab_cond).fit()\n",
    "anova_lab_cond = sm.stats.anova_lm(lab_cond_model, typ=2)\n",
    "anova_lab_cond\n"
   ]
  },
  {
   "cell_type": "markdown",
   "metadata": {},
   "source": [
    "### Plot: Accuracy by Label and Initiator"
   ]
  },
  {
   "cell_type": "code",
   "execution_count": 315,
   "metadata": {
    "scrolled": false
   },
   "outputs": [
    {
     "data": {
      "image/png": "[encoded data removed]",
      "text/plain": [
       "<Figure size 921.6x633.6 with 1 Axes>"
      ]
     },
     "metadata": {
      "needs_background": "light"
     },
     "output_type": "display_data"
    }
   ],
   "source": [
    "#Fig 3B.2\n",
    "vis.plot_acc(dataframe=df_behav, x='label', hue= \"initiator\", x_title = \"Label\", legend_title = \"Initiator\", save_title = \"fig3B.2.png\", hue_order = None)\n",
    "#more of a control result, make figure with control results (ex. no accuracy/ rt tradeoff)"
   ]
  },
  {
   "cell_type": "code",
   "execution_count": 309,
   "metadata": {},
   "outputs": [],
   "source": [
    "df_lab_init = df_merged.groupby(['subj', 'label', 'initiator'])['corr_resp'].mean().reset_index()\n",
    "#df_lab_init"
   ]
  },
  {
   "cell_type": "markdown",
   "metadata": {},
   "source": [
    "## Two-way repeated measure ANOVA\n",
    "IV: Accuracy\n",
    "\n",
    "DV: label, initiator"
   ]
  },
  {
   "cell_type": "code",
   "execution_count": 308,
   "metadata": {},
   "outputs": [
    {
     "name": "stdout",
     "output_type": "stream",
     "text": [
      "                    Anova\n",
      "==============================================\n",
      "                F Value  Num DF  Den DF Pr > F\n",
      "----------------------------------------------\n",
      "label             0.8687 1.0000 21.0000 0.3619\n",
      "initiator        26.8448 1.0000 21.0000 0.0000\n",
      "label:initiator 145.9981 1.0000 21.0000 0.0000\n",
      "==============================================\n",
      "\n"
     ]
    }
   ],
   "source": [
    "res_lab_init = AnovaRM(data=df_lab_init, depvar='corr_resp', within=['label', 'initiator'], subject='subj')\n",
    "print(res_lab_init.fit())\n"
   ]
  },
  {
   "cell_type": "markdown",
   "metadata": {},
   "source": [
    "### Two-way (factorial design) ANOVA \n",
    "IV: Accuracy\n",
    "\n",
    "DV: label, initiator\n"
   ]
  },
  {
   "cell_type": "code",
   "execution_count": 306,
   "metadata": {},
   "outputs": [
    {
     "data": {
      "text/html": [
       "<div>\n",
       "<style scoped>\n",
       "    .dataframe tbody tr th:only-of-type {\n",
       "        vertical-align: middle;\n",
       "    }\n",
       "\n",
       "    .dataframe tbody tr th {\n",
       "        vertical-align: top;\n",
       "    }\n",
       "\n",
       "    .dataframe thead th {\n",
       "        text-align: right;\n",
       "    }\n",
       "</style>\n",
       "<table border=\"1\" class=\"dataframe\">\n",
       "  <thead>\n",
       "    <tr style=\"text-align: right;\">\n",
       "      <th></th>\n",
       "      <th>sum_sq</th>\n",
       "      <th>df</th>\n",
       "      <th>F</th>\n",
       "      <th>PR(&gt;F)</th>\n",
       "    </tr>\n",
       "  </thead>\n",
       "  <tbody>\n",
       "    <tr>\n",
       "      <th>C(label)</th>\n",
       "      <td>0.004512</td>\n",
       "      <td>1.0</td>\n",
       "      <td>0.796642</td>\n",
       "      <td>3.746490e-01</td>\n",
       "    </tr>\n",
       "    <tr>\n",
       "      <th>C(initiator)</th>\n",
       "      <td>0.083624</td>\n",
       "      <td>1.0</td>\n",
       "      <td>14.764118</td>\n",
       "      <td>2.358520e-04</td>\n",
       "    </tr>\n",
       "    <tr>\n",
       "      <th>C(label):C(initiator)</th>\n",
       "      <td>0.467230</td>\n",
       "      <td>1.0</td>\n",
       "      <td>82.490836</td>\n",
       "      <td>4.048874e-14</td>\n",
       "    </tr>\n",
       "    <tr>\n",
       "      <th>Residual</th>\n",
       "      <td>0.475778</td>\n",
       "      <td>84.0</td>\n",
       "      <td>NaN</td>\n",
       "      <td>NaN</td>\n",
       "    </tr>\n",
       "  </tbody>\n",
       "</table>\n",
       "</div>"
      ],
      "text/plain": [
       "                         sum_sq    df          F        PR(>F)\n",
       "C(label)               0.004512   1.0   0.796642  3.746490e-01\n",
       "C(initiator)           0.083624   1.0  14.764118  2.358520e-04\n",
       "C(label):C(initiator)  0.467230   1.0  82.490836  4.048874e-14\n",
       "Residual               0.475778  84.0        NaN           NaN"
      ]
     },
     "execution_count": 306,
     "metadata": {},
     "output_type": "execute_result"
    }
   ],
   "source": [
    "import statsmodels.api as sm\n",
    "from statsmodels.formula.api import ols\n",
    "lab_init_model = ols('corr_resp ~ C(label) + C(initiator) + C(label):C(initiator)', data=df_lab_init).fit()\n",
    "anova_lab_init = sm.stats.anova_lm(lab_init_model, typ=2)\n",
    "anova_lab_init\n"
   ]
  },
  {
   "cell_type": "markdown",
   "metadata": {},
   "source": [
    "### Plot: Fixation Count by Label and Initiator"
   ]
  },
  {
   "cell_type": "code",
   "execution_count": 93,
   "metadata": {
    "scrolled": true
   },
   "outputs": [
    {
     "data": {
      "image/png": "[encoded data removed]",
      "text/plain": [
       "<Figure size 921.6x633.6 with 1 Axes>"
      ]
     },
     "metadata": {
      "needs_background": "light"
     },
     "output_type": "display_data"
    }
   ],
   "source": [
    "vis.plot_fixation_count(dataframe=df_merged, x='label', x_title='Label', hue= \"initiator\", legend_title='Initiator', hue_order=['male', 'female'], save_title = \"posterfig3.png\", palette = ['#99d8c9', '#2ca25f'])\n"
   ]
  },
  {
   "cell_type": "code",
   "execution_count": 318,
   "metadata": {},
   "outputs": [],
   "source": [
    "df_fix_lab_init = df_merged.groupby(['subj', 'type', 'label', 'initiator'])[\"type\"].count().reset_index(name='count').query('type ==\"fixations\"') \n",
    "#df_fix_lab_init "
   ]
  },
  {
   "cell_type": "markdown",
   "metadata": {},
   "source": [
    "## Two-way repeated measure ANOVA\n",
    "IV: Fixation count\n",
    "\n",
    "DV: label, initiator"
   ]
  },
  {
   "cell_type": "code",
   "execution_count": 319,
   "metadata": {},
   "outputs": [
    {
     "name": "stdout",
     "output_type": "stream",
     "text": [
      "                    Anova\n",
      "==============================================\n",
      "                F Value  Num DF  Den DF Pr > F\n",
      "----------------------------------------------\n",
      "label            48.7068 1.0000 18.0000 0.0000\n",
      "initiator       385.2561 1.0000 18.0000 0.0000\n",
      "label:initiator 192.7306 1.0000 18.0000 0.0000\n",
      "==============================================\n",
      "\n"
     ]
    }
   ],
   "source": [
    "res_fix_lab_init = AnovaRM(data=df_fix_lab_init, depvar='count', within=['label', 'initiator'], subject='subj')\n",
    "print(res_fix_lab_init.fit())"
   ]
  },
  {
   "cell_type": "code",
   "execution_count": null,
   "metadata": {},
   "outputs": [],
   "source": [
    "### Supplem"
   ]
  },
  {
   "cell_type": "markdown",
   "metadata": {},
   "source": [
    "### Plot: Accuracy vs. Initiator and Participant Gender"
   ]
  },
  {
   "cell_type": "code",
   "execution_count": 322,
   "metadata": {},
   "outputs": [
    {
     "data": {
      "image/png": "[encoded data removed]",
      "text/plain": [
       "<Figure size 921.6x633.6 with 1 Axes>"
      ]
     },
     "metadata": {
      "needs_background": "light"
     },
     "output_type": "display_data"
    }
   ],
   "source": [
    "#Fig 3B.1\n",
    "vis.plot_acc(dataframe=df_behav, x='initiator', hue= \"participant\", hue_order=['male','female'], x_title = \"Initiator\", legend_title = \"Participant\", save_title = \"fig3B.1.png\")\n",
    "#more of a control result, make figure with control results (ex. no accuracy/ rt tradeoff)"
   ]
  },
  {
   "cell_type": "markdown",
   "metadata": {},
   "source": [
    "### Plot: Accuracy vs. Initiator, Label, Participant Gender"
   ]
  },
  {
   "cell_type": "code",
   "execution_count": 166,
   "metadata": {},
   "outputs": [
    {
     "data": {
      "image/png": "[encoded data removed]",
      "text/plain": [
       "<Figure size 921.6x633.6 with 1 Axes>"
      ]
     },
     "metadata": {
      "needs_background": "light"
     },
     "output_type": "display_data"
    }
   ],
   "source": [
    "#Fig 3B.3\n",
    "vis.plot_acc(dataframe=df_behav, x='initiator_label', hue= \"participant\", x_title = \"Initiator and Label\", legend_title = \"Participant\", save_title = \"fig3B.3.png\")\n",
    "#more of a control result, make figure with control results (ex. no accuracy/ rt tradeoff)\n"
   ]
  },
  {
   "cell_type": "code",
   "execution_count": null,
   "metadata": {},
   "outputs": [],
   "source": []
  },
  {
   "cell_type": "markdown",
   "metadata": {},
   "source": [
    "# Fig. 4 Subplot Components"
   ]
  },
  {
   "cell_type": "markdown",
   "metadata": {},
   "source": [
    "When comparing accuracy and label broken down by initiator and condition name, participants were least accurate in making predictions for the hug label when males initiated in the hard condition, and most accurate when making predictions for the hug label when females initiated in the easy condition."
   ]
  },
  {
   "cell_type": "markdown",
   "metadata": {},
   "source": [
    "Consider demographic information of the participants; download confirmed participants CSV, merge with behavioral and eyetracking data, common ID(subj_ID), filter by (paid_full)\n",
    "\n",
    "See whether accuracy breakdown is affected by participant gender (is the pattern consistent across participants?)\n",
    "\n",
    "Do eyetracking results corroborate these patterns? \n",
    "Difference in fixation duration with these breakdowns? (use in subplots)\n",
    "\n",
    "Fig. 4 Modeling results (comparison across different models for eyetracking vs. social features \n",
    "\n",
    "NOTE: \n",
    "\n",
    "figures.py \n",
    "merge confirmed participant \n"
   ]
  },
  {
   "cell_type": "markdown",
   "metadata": {},
   "source": []
  },
  {
   "cell_type": "markdown",
   "metadata": {},
   "source": [
    "Fig 3- Relationship between eyetracking and behavior. Fig 1 and 2 help motivate why you would have separate models for social vs. eyetracking features. \n",
    "\n",
    "Can first show behavioral data- accuracy differences across runs based on actor or initiator, label, etc\n",
    "\n",
    "Panel a) "
   ]
  },
  {
   "cell_type": "code",
   "execution_count": 102,
   "metadata": {
    "scrolled": false
   },
   "outputs": [
    {
     "data": {
      "image/png": "[encoded data removed]",
      "text/plain": [
       "<Figure size 921.6x633.6 with 1 Axes>"
      ]
     },
     "metadata": {
      "needs_background": "light"
     },
     "output_type": "display_data"
    }
   ],
   "source": [
    "# plot fixation count vs. condition name, separated by label\n",
    "#not able to add \"hue\" criteria for these visuals\n",
    "\n",
    "\n",
    "vis.plot_fixation_count(dataframe=df_merged, x='condition_name', hue= \"label\", save_title = 'fig4.png')\n",
    "\n",
    "\n"
   ]
  },
  {
   "cell_type": "code",
   "execution_count": null,
   "metadata": {},
   "outputs": [],
   "source": [
    "vis.plot_fixation_duration(dataframe=df_merged, x='condition_name', hue= \"label\")"
   ]
  },
  {
   "cell_type": "code",
   "execution_count": null,
   "metadata": {},
   "outputs": [],
   "source": [
    "# vis.plot_fixation_count(dataframe=df_merged, x='label', hue= \"initiator_condition_name\")\n",
    "#more fixations and saccades for male initiators for this specific video type\n",
    "#what does this say about prediction accuracy?\n",
    "#is there a gendered effect in terms of eye-movements, accuracy,etc? \n",
    "#breakdown of individual participant results- are there fixation patterns that differ within individuals (male vs. female participants? how does this breakdown in terms of the initiator )"
   ]
  },
  {
   "cell_type": "code",
   "execution_count": null,
   "metadata": {},
   "outputs": [],
   "source": []
  },
  {
   "cell_type": "code",
   "execution_count": null,
   "metadata": {},
   "outputs": [],
   "source": [
    "vis.plot_fixation_count(dataframe=df_merged, x='label', hue= \"initiator\")\n"
   ]
  },
  {
   "cell_type": "code",
   "execution_count": null,
   "metadata": {},
   "outputs": [],
   "source": [
    "vis.plot_rt(dataframe=df_behav, x='label', hue= 'initiator')\n"
   ]
  },
  {
   "cell_type": "code",
   "execution_count": null,
   "metadata": {},
   "outputs": [],
   "source": [
    "vis.plot_saccade_count(dataframe=df_merged, x='label', hue= 'initiator')"
   ]
  },
  {
   "cell_type": "code",
   "execution_count": null,
   "metadata": {},
   "outputs": [],
   "source": [
    "vis.plot_fixation_duration(dataframe=df_merged, x= 'label', hue = 'initiator')\n"
   ]
  },
  {
   "cell_type": "code",
   "execution_count": null,
   "metadata": {},
   "outputs": [],
   "source": [
    "vis.plot_fixation_count(dataframe=df_merged, x='label')"
   ]
  },
  {
   "cell_type": "code",
   "execution_count": null,
   "metadata": {},
   "outputs": [],
   "source": [
    "vis.plot_fixation_count(dataframe=df_merged, x='run_num')\n",
    "#think about confounds as well- 500 ms fixation cross before video onset"
   ]
  },
  {
   "cell_type": "code",
   "execution_count": null,
   "metadata": {
    "scrolled": false
   },
   "outputs": [],
   "source": [
    "# heatmap\n",
    "#goal: overlay average eye movement patterns \n",
    "# one subj, one run\n",
    "for run in range(14):\n",
    "    tmp = df_eye[(df_eye['subj']=='sIU') & (df_eye['run_num']==run+1) & (df_eye['type']==\"fixations\")]\n",
    "    vis.plot_gaze_positions(dataframe=tmp)\n",
    "    plt.title(f'run{run+1}')"
   ]
  }
 ],
 "metadata": {
  "kernelspec": {
   "display_name": "action_prediction",
   "language": "python",
   "name": "action_prediction"
  },
  "language_info": {
   "codemirror_mode": {
    "name": "ipython",
    "version": 3
   },
   "file_extension": ".py",
   "mimetype": "text/x-python",
   "name": "python",
   "nbconvert_exporter": "python",
   "pygments_lexer": "ipython3",
   "version": "3.7.4"
  }
 },
 "nbformat": 4,
 "nbformat_minor": 4
}
