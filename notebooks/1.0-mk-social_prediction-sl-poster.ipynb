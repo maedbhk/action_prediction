{
 "cells": [
  {
   "cell_type": "code",
   "execution_count": 2,
   "metadata": {},
   "outputs": [],
   "source": [
    "# load libraries\n",
    "\n",
    "import pandas as pd\n",
    "import numpy as np\n",
    "import seaborn as sns\n",
    "import os\n",
    "import matplotlib.pyplot as plt\n",
    "\n",
    "from action_prediction import constants as const\n",
    "from action_prediction.data import DataSet\n",
    "from action_prediction import visualize as vis\n",
    "\n",
    "%load_ext autoreload\n",
    "%autoreload 2"
   ]
  },
  {
   "cell_type": "code",
   "execution_count": 3,
   "metadata": {},
   "outputs": [
    {
     "data": {
      "text/plain": [
       "PosixPath('/Users/shannonlee/Documents/action_prediction/data/behavior')"
      ]
     },
     "execution_count": 3,
     "metadata": {},
     "output_type": "execute_result"
    }
   ],
   "source": [
    "const.BEHAVE_DIR"
   ]
  },
  {
   "cell_type": "code",
   "execution_count": 4,
   "metadata": {},
   "outputs": [],
   "source": [
    "# initialize dataset\n",
    "data = DataSet(task='social_prediction')\n",
    "\n",
    "#load confirmed participants\n",
    "df_participants = pd.read_csv(\"../data/behavior/confirmed_participants.csv\")\n",
    "df_participants = df_participants[['public_id', 'paid_full', 'sex']]\n",
    "df_participants['participant'] = df_participants['sex'].map({'M': 'male', 'F': 'female'})\n",
    "\n",
    "# load behavior\n",
    "df_behav = data.load_behav()\n",
    "df_behav = df_behav.merge(df_participants, left_on='subj', right_on='public_id')\n",
    "\n",
    "# load eyetracking\n",
    "df_eye = data.load_eye(data_type='events')\n",
    "\n",
    "# merge eyetracking with behav\n",
    "df_merged = data.merge_behav_eye(dataframe_behav=df_behav, dataframe_eye=df_eye)\n"
   ]
  },
  {
   "cell_type": "code",
   "execution_count": 11,
   "metadata": {},
   "outputs": [
    {
     "data": {
      "text/plain": [
       "Index(['Unnamed: 0', 'Unnamed: 0.1', 'actors', 'agents', 'angle',\n",
       "       'balance_exp', 'block_iter', 'condition_name', 'context', 'corr_key',\n",
       "       'corr_resp', 'dataset', 'display_trial_feedback', 'extracted',\n",
       "       'feedback_type', 'hand', 'initiator', 'initiator_start_frames',\n",
       "       'initiator_start_frames_corr', 'initiator_start_frames_sec',\n",
       "       'interact_start_frames', 'interact_start_frames_corr',\n",
       "       'interact_start_frames_sec', 'iti_dur', 'label', 'media',\n",
       "       'real_start_time', 'replace_stimuli', 'resp_made', 'rt', 'run_iter',\n",
       "       'run_num', 'sess', 'session_type', 'start_time', 'stim', 'subj', 'task',\n",
       "       'timestamp', 'timestamp_sec', 'trial_dur', 'trial_type', 'video_end',\n",
       "       'video_name', 'video_name_corrected', 'video_start', 'block_iter_corr',\n",
       "       'public_id', 'paid_full', 'sex', 'participant',\n",
       "       'initiator_condition_name'],\n",
       "      dtype='object')"
      ]
     },
     "execution_count": 11,
     "metadata": {},
     "output_type": "execute_result"
    }
   ],
   "source": [
    "df_behav.columns"
   ]
  },
  {
   "cell_type": "code",
   "execution_count": 5,
   "metadata": {},
   "outputs": [],
   "source": [
    "df_behav[\"initiator_condition_name\"]= df_behav[\"initiator\"] + \"_\" + df_behav[\"condition_name\"] \n",
    "df_merged[\"initiator_condition_name\"]= df_merged[\"initiator\"] + \"_\" + df_merged[\"condition_name\"] \n",
    "#can use this method for combining variable conditions across any column\n",
    "#look into label and condition, initiator + label, etc\n"
   ]
  },
  {
   "cell_type": "code",
   "execution_count": 6,
   "metadata": {},
   "outputs": [
    {
     "data": {
      "text/plain": [
       "0         male_hard\n",
       "1       female_hard\n",
       "2       female_easy\n",
       "3       female_easy\n",
       "4       female_easy\n",
       "           ...     \n",
       "7519    female_easy\n",
       "7520      male_easy\n",
       "7521      male_hard\n",
       "7522      male_easy\n",
       "7523    female_easy\n",
       "Name: initiator_condition_name, Length: 7524, dtype: object"
      ]
     },
     "execution_count": 6,
     "metadata": {},
     "output_type": "execute_result"
    }
   ],
   "source": [
    "df_merged.initiator_condition_name\n",
    "df_behav.initiator_condition_name"
   ]
  },
  {
   "cell_type": "markdown",
   "metadata": {},
   "source": [
    "# Background\n",
    "\n",
    "As evolutionarily social beings, humans constantly interact with and communicate with others. In order to reciprocate and engage in successful interactions, we rely on social cues and environmental context to predict what others will do in a given situation. It is essential for humans to simultaneously process multiple sensory sources including spoken language, facial expressions, eye contact, and bodily motion to quickly respond to and gauge behavior in social settings.\n",
    "\n",
    "\n",
    "Of fundamental importance to everyday observation is the role of our eye movements in providing visual input about our environmental and social contexts. In terms of our social communication and adaptation capabilities, eye movements may heavily contribute to interaction prediction, and our focal patterns may inform which cues we most visually depend on in making accurate social assessments. One way this has been quantified is through eye-tracking methods and corresponding behavioral measures. How do we visually integrate various information sources in coordinated human interactions, such as when engaging in a hug or a handshake? What specific human-based cues do we tend to focus on and utilize in predicting someone’s social behavior and related movements?\n"
   ]
  },
  {
   "cell_type": "markdown",
   "metadata": {},
   "source": [
    "# Thesis Questions\n",
    "\n",
    "1. Do people learn to predict social interactions over time?\n",
    "\n",
    "Measure accuracy, % correct response to our social prediction video clips, grouped by run # over time.  This graph visually suggests that there is a slight upward trend in terms of increased accuracy over the course of all runs over time, so we are now looking into the statistical significance of these outcomes.\n",
    "\n",
    "\n",
    "2. Based on these results, it is evident that participants are learning how to make better/ more informed predictions. What factors/ strategies might be able to explain the changes in learning? Or how are participants adapting to make more accurate  predictions?\n",
    "\n",
    "\n",
    "3. How can we explain social prediction learning with \"social\" behavioral data features vs. \"neural correlates\"(eye-tracking metrics)? \n",
    "\n",
    "    - Comparison of differences w/r/t accuracy between male/female, hug/handshake, etc. \n",
    "    - Build a linear model just with these social features, and see how well it explains learning. \n",
    "    - Then compare this social model with the neural model (based on eyetracking metrics)\n",
    "    \n",
    "\n",
    "4. Exploration and Future Directions\n",
    "\n",
    "This exploratory data through modelling could form the basis of another experimental hypothesis based on biased learning/ gendered social communication.\n",
    "\n",
    "\n"
   ]
  },
  {
   "cell_type": "code",
   "execution_count": 7,
   "metadata": {},
   "outputs": [
    {
     "data": {
      "text/plain": [
       "<Figure size 600x600 with 0 Axes>"
      ]
     },
     "metadata": {},
     "output_type": "display_data"
    }
   ],
   "source": [
    "\n",
    "# initialize plotting style\n",
    "vis.plotting_style()"
   ]
  },
  {
   "cell_type": "markdown",
   "metadata": {},
   "source": [
    "#### Next steps\n",
    "Statistical test to show whether there is a statistically significant difference between condition_names"
   ]
  },
  {
   "cell_type": "markdown",
   "metadata": {},
   "source": [
    "# 1. Do people learn to predict social interactions over time?\n",
    "\n",
    "Measure accuracy, proportion correct response to our social prediction video clips, grouped by run # over time.  This graph visually suggests that there is a slight upward trend in terms of increased accuracy over the course of all runs over time, so we are now looking into the statistical significance of these outcomes."
   ]
  },
  {
   "cell_type": "markdown",
   "metadata": {},
   "source": [
    "### Fig. 1"
   ]
  },
  {
   "cell_type": "code",
   "execution_count": 8,
   "metadata": {},
   "outputs": [
    {
     "data": {
      "image/png": "[encoded data removed]",
      "text/plain": [
       "<Figure size 360x360 with 1 Axes>"
      ]
     },
     "metadata": {
      "needs_background": "light"
     },
     "output_type": "display_data"
    }
   ],
   "source": [
    "#visualize accuracy across runs\n",
    "fig1 = vis.plot_acc(dataframe=df_behav, x='run_num', \n",
    "                    hue= 'condition_name', hue_order = ['easy', 'hard'], palette = ['#1c9099', '#e34a33'],\n",
    "                    x_title= \"Run Number\", legend_title = \"Condition Name\", save_title = 'posterfig1.png')"
   ]
  },
  {
   "cell_type": "code",
   "execution_count": 9,
   "metadata": {},
   "outputs": [
    {
     "name": "stderr",
     "output_type": "stream",
     "text": [
      "No handles with labels found to put in legend.\n"
     ]
    },
    {
     "data": {
      "image/png": "[encoded data removed]",
      "text/plain": [
       "<Figure size 921.6x633.6 with 1 Axes>"
      ]
     },
     "metadata": {
      "needs_background": "light"
     },
     "output_type": "display_data"
    }
   ],
   "source": [
    "vis.plot_acc(dataframe=df_behav, x='condition_name', hue_order = ['easy', 'hard'], palette = ['#1c9099', '#e34a33'],\n",
    "                    x_title= \"Condition Name\", save_title = 'posterfig1B.png')"
   ]
  },
  {
   "cell_type": "code",
   "execution_count": null,
   "metadata": {},
   "outputs": [],
   "source": []
  },
  {
   "cell_type": "code",
   "execution_count": 10,
   "metadata": {},
   "outputs": [
    {
     "name": "stdout",
     "output_type": "stream",
     "text": [
      "t(20)=6.933775089163084, p=1.0614307386458154e-07\n"
     ]
    }
   ],
   "source": [
    "import pandas as pd\n",
    "from scipy.stats import ttest_ind\n",
    "# group by whichever variables you are interested\n",
    "df_grouped = df_merged.groupby(['subj', 'condition_name'])['corr_resp'].mean().reset_index()\n",
    "# run a T-test\n",
    "# let's first run a T-test (i.e. one-way ANOVA on RT diff between patient and control)\n",
    "easy_acc = df_grouped.query('condition_name==\"easy\"')['corr_resp']\n",
    "hard_acc = df_grouped.query('condition_name==\"hard\"')['corr_resp']\n",
    "t, p = ttest_ind(easy_acc, hard_acc)\n",
    "print(f't(20)={t}, p={p}')"
   ]
  },
  {
   "cell_type": "markdown",
   "metadata": {},
   "source": [
    "Plot of accuracy changes over time (by run number), broken down by condition_name. Run number 8 indicates the start of the Behavioral Session 2. The hard condition reflected overall lower accuracy percentages compared to the easy condition across participants. "
   ]
  },
  {
   "cell_type": "markdown",
   "metadata": {},
   "source": [
    "### Fig. 2"
   ]
  },
  {
   "cell_type": "code",
   "execution_count": 73,
   "metadata": {},
   "outputs": [
    {
     "data": {
      "image/png": "[encoded data removed]",
      "text/plain": [
       "<Figure size 360x360 with 1 Axes>"
      ]
     },
     "metadata": {
      "needs_background": "light"
     },
     "output_type": "display_data"
    }
   ],
   "source": [
    "\n",
    "fig2 =vis.plot_fixation_duration(df_merged, x='run_num', hue=None, x_title =\"Run Number\", save_title = 'posterfig2.png')\n"
   ]
  },
  {
   "cell_type": "code",
   "execution_count": 13,
   "metadata": {},
   "outputs": [
    {
     "data": {
      "text/html": [
       "<div>\n",
       "<style scoped>\n",
       "    .dataframe tbody tr th:only-of-type {\n",
       "        vertical-align: middle;\n",
       "    }\n",
       "\n",
       "    .dataframe tbody tr th {\n",
       "        vertical-align: top;\n",
       "    }\n",
       "\n",
       "    .dataframe thead th {\n",
       "        text-align: right;\n",
       "    }\n",
       "</style>\n",
       "<table border=\"1\" class=\"dataframe\">\n",
       "  <thead>\n",
       "    <tr style=\"text-align: right;\">\n",
       "      <th></th>\n",
       "      <th>subj</th>\n",
       "      <th>sess</th>\n",
       "      <th>corr_resp</th>\n",
       "    </tr>\n",
       "  </thead>\n",
       "  <tbody>\n",
       "    <tr>\n",
       "      <th>0</th>\n",
       "      <td>sAA</td>\n",
       "      <td>1</td>\n",
       "      <td>0.744935</td>\n",
       "    </tr>\n",
       "    <tr>\n",
       "      <th>1</th>\n",
       "      <td>sAA</td>\n",
       "      <td>2</td>\n",
       "      <td>0.748462</td>\n",
       "    </tr>\n",
       "    <tr>\n",
       "      <th>2</th>\n",
       "      <td>sAA1</td>\n",
       "      <td>1</td>\n",
       "      <td>0.678571</td>\n",
       "    </tr>\n",
       "    <tr>\n",
       "      <th>3</th>\n",
       "      <td>sAA1</td>\n",
       "      <td>2</td>\n",
       "      <td>0.797619</td>\n",
       "    </tr>\n",
       "    <tr>\n",
       "      <th>4</th>\n",
       "      <td>sAA2</td>\n",
       "      <td>1</td>\n",
       "      <td>0.734369</td>\n",
       "    </tr>\n",
       "    <tr>\n",
       "      <th>5</th>\n",
       "      <td>sAA2</td>\n",
       "      <td>2</td>\n",
       "      <td>0.738827</td>\n",
       "    </tr>\n",
       "    <tr>\n",
       "      <th>6</th>\n",
       "      <td>sAE</td>\n",
       "      <td>1</td>\n",
       "      <td>0.742407</td>\n",
       "    </tr>\n",
       "    <tr>\n",
       "      <th>7</th>\n",
       "      <td>sAE</td>\n",
       "      <td>2</td>\n",
       "      <td>NaN</td>\n",
       "    </tr>\n",
       "    <tr>\n",
       "      <th>8</th>\n",
       "      <td>sAO</td>\n",
       "      <td>1</td>\n",
       "      <td>NaN</td>\n",
       "    </tr>\n",
       "    <tr>\n",
       "      <th>9</th>\n",
       "      <td>sAO</td>\n",
       "      <td>2</td>\n",
       "      <td>NaN</td>\n",
       "    </tr>\n",
       "    <tr>\n",
       "      <th>10</th>\n",
       "      <td>sAO1</td>\n",
       "      <td>1</td>\n",
       "      <td>NaN</td>\n",
       "    </tr>\n",
       "    <tr>\n",
       "      <th>11</th>\n",
       "      <td>sAO1</td>\n",
       "      <td>2</td>\n",
       "      <td>NaN</td>\n",
       "    </tr>\n",
       "    <tr>\n",
       "      <th>12</th>\n",
       "      <td>sEA</td>\n",
       "      <td>1</td>\n",
       "      <td>0.642857</td>\n",
       "    </tr>\n",
       "    <tr>\n",
       "      <th>13</th>\n",
       "      <td>sEA</td>\n",
       "      <td>2</td>\n",
       "      <td>0.746032</td>\n",
       "    </tr>\n",
       "    <tr>\n",
       "      <th>14</th>\n",
       "      <td>sEE</td>\n",
       "      <td>1</td>\n",
       "      <td>0.709635</td>\n",
       "    </tr>\n",
       "    <tr>\n",
       "      <th>15</th>\n",
       "      <td>sEE</td>\n",
       "      <td>2</td>\n",
       "      <td>0.755301</td>\n",
       "    </tr>\n",
       "    <tr>\n",
       "      <th>16</th>\n",
       "      <td>sEH</td>\n",
       "      <td>1</td>\n",
       "      <td>0.729992</td>\n",
       "    </tr>\n",
       "    <tr>\n",
       "      <th>17</th>\n",
       "      <td>sEH</td>\n",
       "      <td>2</td>\n",
       "      <td>0.780443</td>\n",
       "    </tr>\n",
       "    <tr>\n",
       "      <th>18</th>\n",
       "      <td>sEI</td>\n",
       "      <td>1</td>\n",
       "      <td>NaN</td>\n",
       "    </tr>\n",
       "    <tr>\n",
       "      <th>19</th>\n",
       "      <td>sEO</td>\n",
       "      <td>1</td>\n",
       "      <td>0.687306</td>\n",
       "    </tr>\n",
       "    <tr>\n",
       "      <th>20</th>\n",
       "      <td>sEO</td>\n",
       "      <td>2</td>\n",
       "      <td>0.769844</td>\n",
       "    </tr>\n",
       "    <tr>\n",
       "      <th>21</th>\n",
       "      <td>sHU</td>\n",
       "      <td>1</td>\n",
       "      <td>0.773117</td>\n",
       "    </tr>\n",
       "    <tr>\n",
       "      <th>22</th>\n",
       "      <td>sHU</td>\n",
       "      <td>2</td>\n",
       "      <td>0.877367</td>\n",
       "    </tr>\n",
       "    <tr>\n",
       "      <th>23</th>\n",
       "      <td>sIU</td>\n",
       "      <td>1</td>\n",
       "      <td>0.678862</td>\n",
       "    </tr>\n",
       "    <tr>\n",
       "      <th>24</th>\n",
       "      <td>sIU</td>\n",
       "      <td>2</td>\n",
       "      <td>0.775827</td>\n",
       "    </tr>\n",
       "    <tr>\n",
       "      <th>25</th>\n",
       "      <td>sIU1</td>\n",
       "      <td>1</td>\n",
       "      <td>0.742767</td>\n",
       "    </tr>\n",
       "    <tr>\n",
       "      <th>26</th>\n",
       "      <td>sIU1</td>\n",
       "      <td>2</td>\n",
       "      <td>0.806107</td>\n",
       "    </tr>\n",
       "    <tr>\n",
       "      <th>27</th>\n",
       "      <td>sLG</td>\n",
       "      <td>1</td>\n",
       "      <td>NaN</td>\n",
       "    </tr>\n",
       "    <tr>\n",
       "      <th>28</th>\n",
       "      <td>sLG</td>\n",
       "      <td>2</td>\n",
       "      <td>NaN</td>\n",
       "    </tr>\n",
       "    <tr>\n",
       "      <th>29</th>\n",
       "      <td>sML</td>\n",
       "      <td>1</td>\n",
       "      <td>0.561682</td>\n",
       "    </tr>\n",
       "    <tr>\n",
       "      <th>30</th>\n",
       "      <td>sML</td>\n",
       "      <td>2</td>\n",
       "      <td>0.558331</td>\n",
       "    </tr>\n",
       "    <tr>\n",
       "      <th>31</th>\n",
       "      <td>sNH</td>\n",
       "      <td>1</td>\n",
       "      <td>0.706380</td>\n",
       "    </tr>\n",
       "    <tr>\n",
       "      <th>32</th>\n",
       "      <td>sNH</td>\n",
       "      <td>2</td>\n",
       "      <td>NaN</td>\n",
       "    </tr>\n",
       "    <tr>\n",
       "      <th>33</th>\n",
       "      <td>sOA</td>\n",
       "      <td>1</td>\n",
       "      <td>NaN</td>\n",
       "    </tr>\n",
       "    <tr>\n",
       "      <th>34</th>\n",
       "      <td>sOA</td>\n",
       "      <td>2</td>\n",
       "      <td>NaN</td>\n",
       "    </tr>\n",
       "    <tr>\n",
       "      <th>35</th>\n",
       "      <td>sON</td>\n",
       "      <td>1</td>\n",
       "      <td>0.750000</td>\n",
       "    </tr>\n",
       "    <tr>\n",
       "      <th>36</th>\n",
       "      <td>sON</td>\n",
       "      <td>2</td>\n",
       "      <td>0.738095</td>\n",
       "    </tr>\n",
       "    <tr>\n",
       "      <th>37</th>\n",
       "      <td>sRH</td>\n",
       "      <td>1</td>\n",
       "      <td>0.665034</td>\n",
       "    </tr>\n",
       "    <tr>\n",
       "      <th>38</th>\n",
       "      <td>sRH</td>\n",
       "      <td>2</td>\n",
       "      <td>0.726190</td>\n",
       "    </tr>\n",
       "    <tr>\n",
       "      <th>39</th>\n",
       "      <td>sRO</td>\n",
       "      <td>1</td>\n",
       "      <td>NaN</td>\n",
       "    </tr>\n",
       "    <tr>\n",
       "      <th>40</th>\n",
       "      <td>sRO</td>\n",
       "      <td>2</td>\n",
       "      <td>NaN</td>\n",
       "    </tr>\n",
       "    <tr>\n",
       "      <th>41</th>\n",
       "      <td>sSE</td>\n",
       "      <td>1</td>\n",
       "      <td>0.715347</td>\n",
       "    </tr>\n",
       "    <tr>\n",
       "      <th>42</th>\n",
       "      <td>sSE</td>\n",
       "      <td>2</td>\n",
       "      <td>0.690441</td>\n",
       "    </tr>\n",
       "  </tbody>\n",
       "</table>\n",
       "</div>"
      ],
      "text/plain": [
       "    subj  sess  corr_resp\n",
       "0    sAA     1   0.744935\n",
       "1    sAA     2   0.748462\n",
       "2   sAA1     1   0.678571\n",
       "3   sAA1     2   0.797619\n",
       "4   sAA2     1   0.734369\n",
       "5   sAA2     2   0.738827\n",
       "6    sAE     1   0.742407\n",
       "7    sAE     2        NaN\n",
       "8    sAO     1        NaN\n",
       "9    sAO     2        NaN\n",
       "10  sAO1     1        NaN\n",
       "11  sAO1     2        NaN\n",
       "12   sEA     1   0.642857\n",
       "13   sEA     2   0.746032\n",
       "14   sEE     1   0.709635\n",
       "15   sEE     2   0.755301\n",
       "16   sEH     1   0.729992\n",
       "17   sEH     2   0.780443\n",
       "18   sEI     1        NaN\n",
       "19   sEO     1   0.687306\n",
       "20   sEO     2   0.769844\n",
       "21   sHU     1   0.773117\n",
       "22   sHU     2   0.877367\n",
       "23   sIU     1   0.678862\n",
       "24   sIU     2   0.775827\n",
       "25  sIU1     1   0.742767\n",
       "26  sIU1     2   0.806107\n",
       "27   sLG     1        NaN\n",
       "28   sLG     2        NaN\n",
       "29   sML     1   0.561682\n",
       "30   sML     2   0.558331\n",
       "31   sNH     1   0.706380\n",
       "32   sNH     2        NaN\n",
       "33   sOA     1        NaN\n",
       "34   sOA     2        NaN\n",
       "35   sON     1   0.750000\n",
       "36   sON     2   0.738095\n",
       "37   sRH     1   0.665034\n",
       "38   sRH     2   0.726190\n",
       "39   sRO     1        NaN\n",
       "40   sRO     2        NaN\n",
       "41   sSE     1   0.715347\n",
       "42   sSE     2   0.690441"
      ]
     },
     "execution_count": 13,
     "metadata": {},
     "output_type": "execute_result"
    }
   ],
   "source": [
    "# group by whichever variables you are interested\n",
    "df_grouped2 = df_merged.groupby(['subj', 'sess'])['corr_resp'].mean().reset_index()\n",
    "df_grouped2# run a T-test\n",
    "# let's first run a T-test (i.e. one-way ANOVA on RT diff between patient and control)\n",
    "#sess1_acc = df_grouped.query('sess==\"sess_1\"')['corr_resp']\n",
    "#sess2_acc = df_grouped.query('sess==\"sess_2\"')['corr_resp']\n",
    "#t, p = ttest_ind(sess1_acc, sess2_acc)\n",
    "#print(f't(20)={t}, p={p}')"
   ]
  },
  {
   "cell_type": "markdown",
   "metadata": {},
   "source": [
    "### Consider reaction time/ accuracy tradeoff"
   ]
  },
  {
   "cell_type": "markdown",
   "metadata": {},
   "source": [
    "### Fig. 3 \n"
   ]
  },
  {
   "cell_type": "code",
   "execution_count": 14,
   "metadata": {},
   "outputs": [],
   "source": [
    "df_behav[\"initiator_condition_name\"]= df_behav[\"initiator\"] + \"_\" + df_behav[\"condition_name\"] \n",
    "df_merged[\"initiator_condition_name\"]= df_merged[\"initiator\"] + \"_\" + df_merged[\"condition_name\"] \n",
    "#can use this method for combining variable conditions across any column\n",
    "\n",
    "df_behav[\"initiator_label\"]= df_behav[\"initiator\"] + \"_\" + df_behav[\"label\"] \n",
    "df_merged[\"initiator_label\"]= df_merged[\"initiator\"] + \"_\" + df_merged[\"label\"] "
   ]
  },
  {
   "cell_type": "code",
   "execution_count": 76,
   "metadata": {
    "scrolled": false
   },
   "outputs": [
    {
     "name": "stderr",
     "output_type": "stream",
     "text": [
      "No handles with labels found to put in legend.\n"
     ]
    },
    {
     "data": {
      "image/png": "[encoded data removed]",
      "text/plain": [
       "<Figure size 921.6x633.6 with 1 Axes>"
      ]
     },
     "metadata": {
      "needs_background": "light"
     },
     "output_type": "display_data"
    }
   ],
   "source": [
    "vis.plot_fixation_count(dataframe=df_merged, x='label', x_title='Label', hue= \"initiator\", legend_title='Initiator', hue_order=['male', 'female'], save_title = \"posterfig3.png\", palette = ['#99d8c9', '#2ca25f'])\n"
   ]
  },
  {
   "cell_type": "code",
   "execution_count": 15,
   "metadata": {},
   "outputs": [
    {
     "ename": "KeyError",
     "evalue": "'Column not found: fixation_count'",
     "output_type": "error",
     "traceback": [
      "\u001b[0;31m---------------------------------------------------------------------------\u001b[0m",
      "\u001b[0;31mKeyError\u001b[0m                                  Traceback (most recent call last)",
      "\u001b[0;32m<ipython-input-15-6bdb87ee1d39>\u001b[0m in \u001b[0;36m<module>\u001b[0;34m\u001b[0m\n\u001b[1;32m      1\u001b[0m \u001b[0;31m# group by whichever variables you are interested\u001b[0m\u001b[0;34m\u001b[0m\u001b[0;34m\u001b[0m\u001b[0;34m\u001b[0m\u001b[0m\n\u001b[0;32m----> 2\u001b[0;31m \u001b[0mdf_grouped3\u001b[0m \u001b[0;34m=\u001b[0m \u001b[0mdf_merged\u001b[0m\u001b[0;34m.\u001b[0m\u001b[0mgroupby\u001b[0m\u001b[0;34m(\u001b[0m\u001b[0;34m[\u001b[0m\u001b[0;34m'subj'\u001b[0m\u001b[0;34m,\u001b[0m \u001b[0;34m'label'\u001b[0m\u001b[0;34m,\u001b[0m \u001b[0;34m'initiator'\u001b[0m\u001b[0;34m]\u001b[0m\u001b[0;34m)\u001b[0m\u001b[0;34m[\u001b[0m\u001b[0;34m'fixation_count'\u001b[0m\u001b[0;34m]\u001b[0m\u001b[0;34m.\u001b[0m\u001b[0mmean\u001b[0m\u001b[0;34m(\u001b[0m\u001b[0;34m)\u001b[0m\u001b[0;34m.\u001b[0m\u001b[0mreset_index\u001b[0m\u001b[0;34m(\u001b[0m\u001b[0;34m)\u001b[0m\u001b[0;34m\u001b[0m\u001b[0;34m\u001b[0m\u001b[0m\n\u001b[0m\u001b[1;32m      3\u001b[0m \u001b[0mdf_grouped3\u001b[0m\u001b[0;34m\u001b[0m\u001b[0;34m\u001b[0m\u001b[0m\n\u001b[1;32m      4\u001b[0m \u001b[0;31m# run a T-test\u001b[0m\u001b[0;34m\u001b[0m\u001b[0;34m\u001b[0m\u001b[0;34m\u001b[0m\u001b[0m\n\u001b[1;32m      5\u001b[0m \u001b[0;31m# let's first run a T-test (i.e. one-way ANOVA on RT diff between patient and control)\u001b[0m\u001b[0;34m\u001b[0m\u001b[0;34m\u001b[0m\u001b[0;34m\u001b[0m\u001b[0m\n",
      "\u001b[0;32m~/.local/share/virtualenvs/action_prediction-IpAQnTgy/lib/python3.7/site-packages/pandas/core/base.py\u001b[0m in \u001b[0;36m__getitem__\u001b[0;34m(self, key)\u001b[0m\n\u001b[1;32m    266\u001b[0m         \u001b[0;32melse\u001b[0m\u001b[0;34m:\u001b[0m\u001b[0;34m\u001b[0m\u001b[0;34m\u001b[0m\u001b[0m\n\u001b[1;32m    267\u001b[0m             \u001b[0;32mif\u001b[0m \u001b[0mkey\u001b[0m \u001b[0;32mnot\u001b[0m \u001b[0;32min\u001b[0m \u001b[0mself\u001b[0m\u001b[0;34m.\u001b[0m\u001b[0mobj\u001b[0m\u001b[0;34m:\u001b[0m\u001b[0;34m\u001b[0m\u001b[0;34m\u001b[0m\u001b[0m\n\u001b[0;32m--> 268\u001b[0;31m                 \u001b[0;32mraise\u001b[0m \u001b[0mKeyError\u001b[0m\u001b[0;34m(\u001b[0m\u001b[0;34m\"Column not found: {key}\"\u001b[0m\u001b[0;34m.\u001b[0m\u001b[0mformat\u001b[0m\u001b[0;34m(\u001b[0m\u001b[0mkey\u001b[0m\u001b[0;34m=\u001b[0m\u001b[0mkey\u001b[0m\u001b[0;34m)\u001b[0m\u001b[0;34m)\u001b[0m\u001b[0;34m\u001b[0m\u001b[0;34m\u001b[0m\u001b[0m\n\u001b[0m\u001b[1;32m    269\u001b[0m             \u001b[0;32mreturn\u001b[0m \u001b[0mself\u001b[0m\u001b[0;34m.\u001b[0m\u001b[0m_gotitem\u001b[0m\u001b[0;34m(\u001b[0m\u001b[0mkey\u001b[0m\u001b[0;34m,\u001b[0m \u001b[0mndim\u001b[0m\u001b[0;34m=\u001b[0m\u001b[0;36m1\u001b[0m\u001b[0;34m)\u001b[0m\u001b[0;34m\u001b[0m\u001b[0;34m\u001b[0m\u001b[0m\n\u001b[1;32m    270\u001b[0m \u001b[0;34m\u001b[0m\u001b[0m\n",
      "\u001b[0;31mKeyError\u001b[0m: 'Column not found: fixation_count'"
     ]
    }
   ],
   "source": [
    "# group by whichever variables you are interested\n",
    "df_grouped3 = df_merged.groupby(['subj', 'label', 'initiator'])['fixation_count'].mean().reset_index()\n",
    "df_grouped3\n",
    "# run a T-test\n",
    "# let's first run a T-test (i.e. one-way ANOVA on RT diff between patient and control)\n",
    "easy_acc = df_grouped.query('condition_name==\"easy\"')['corr_resp']\n",
    "hard_acc = df_grouped.query('condition_name==\"hard\"')['corr_resp']\n",
    "t, p = ttest_ind(easy_acc, hard_acc)\n",
    "print(f't(20)={t}, p={p}')"
   ]
  },
  {
   "cell_type": "markdown",
   "metadata": {},
   "source": [
    "Fixation count by label, initiator, and participant gender. Highest average fixation count for male-initiated handshake condition and lowest for female-initiated handshake condition. Features inform joint “social + eye-tracking” model\n"
   ]
  },
  {
   "cell_type": "code",
   "execution_count": 46,
   "metadata": {},
   "outputs": [
    {
     "name": "stdout",
     "output_type": "stream",
     "text": [
      "t(n-2)=6.913571081662766, p=1.1212921094271839e-07\n"
     ]
    }
   ],
   "source": [
    "import pandas as pd\n",
    "from scipy.stats import ttest_ind\n",
    "# group by whichever variables you are interested\n",
    "df_grouped = df_merged.groupby(['subj', 'condition_name'])['corr_resp'].mean().reset_index()\n",
    "# run an F test\n",
    "# let's first run an F test (i.e. one-way ANOVA on RT diff between patient and control)\n",
    "easy_acc = df_grouped.query('condition_name==\"easy\"')['corr_resp']\n",
    "hard_acc = df_grouped.query('condition_name==\"hard\"')['corr_resp']\n",
    "t, p = ttest_ind(easy_acc, hard_acc)\n",
    "print(f't(n-2)={t}, p={p}')"
   ]
  },
  {
   "cell_type": "code",
   "execution_count": null,
   "metadata": {},
   "outputs": [],
   "source": []
  }
 ],
 "metadata": {
  "kernelspec": {
   "display_name": "action_prediction",
   "language": "python",
   "name": "action_prediction"
  },
  "language_info": {
   "codemirror_mode": {
    "name": "ipython",
    "version": 3
   },
   "file_extension": ".py",
   "mimetype": "text/x-python",
   "name": "python",
   "nbconvert_exporter": "python",
   "pygments_lexer": "ipython3",
   "version": "3.7.4"
  }
 },
 "nbformat": 4,
 "nbformat_minor": 4
}
