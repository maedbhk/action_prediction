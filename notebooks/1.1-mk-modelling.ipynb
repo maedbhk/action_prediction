{
 "cells": [
  {
   "cell_type": "code",
   "execution_count": 18,
   "id": "declared-equipment",
   "metadata": {},
   "outputs": [
    {
     "name": "stdout",
     "output_type": "stream",
     "text": [
      "The autoreload extension is already loaded. To reload it, use:\n",
      "  %reload_ext autoreload\n"
     ]
    }
   ],
   "source": [
    "# load libraries\n",
    "\n",
    "import pandas as pd\n",
    "import numpy as np\n",
    "import seaborn as sns\n",
    "import os\n",
    "import matplotlib.pyplot as plt\n",
    "\n",
    "from action_prediction import constants as const\n",
    "from action_prediction.data import DataSet\n",
    "from action_prediction import run_models\n",
    "\n",
    "%load_ext autoreload\n",
    "%autoreload 2\n",
    "\n",
    "import warnings\n",
    "warnings.filterwarnings(\"ignore\")  "
   ]
  },
  {
   "cell_type": "code",
   "execution_count": 19,
   "id": "norman-raise",
   "metadata": {},
   "outputs": [],
   "source": [
    "# initialize class \n",
    "data = DataSet(task='social_prediction')\n",
    "\n",
    "# load behavior\n",
    "df_behav = data.load_behav()\n",
    "# load eyetracking\n",
    "df_eye = data.load_eye(data_type='events')\n",
    "# merge eyetracking with behav\n",
    "df_merged = data.merge_behav_eye(dataframe_behav=df_behav, dataframe_eye=df_eye)\n"
   ]
  },
  {
   "cell_type": "code",
   "execution_count": 17,
   "id": "timely-disney",
   "metadata": {
    "scrolled": false
   },
   "outputs": [
    {
     "name": "stdout",
     "output_type": "stream",
     "text": [
      "fitting context model for sON\n",
      "fitting context model for sEA\n",
      "fitting context model for sAA1\n",
      "fitting context model for sHU\n",
      "fitting context model for sEH\n",
      "fitting context model for sSE\n",
      "fitting context model for sEO\n",
      "fitting context model for sAA\n",
      "fitting context model for sEE\n",
      "fitting context model for sML\n",
      "fitting context model for sIU1\n",
      "fitting context model for sIU\n",
      "fitting context model for sRH\n",
      "fitting context model for sAA2\n",
      "fitting context model for sAE\n",
      "fitting context model for sNH\n",
      "fitting context model for sAO1\n",
      "fitting context model for sAO\n",
      "fitting context model for sOA\n",
      "fitting context model for sLG\n",
      "fitting context model for sRO\n",
      "fitting context model for sEI\n",
      "error raised when fitting eye-tracking model for sON\n",
      "error raised when fitting eye-tracking model for sEA\n",
      "error raised when fitting eye-tracking model for sAA1\n",
      "fitting eye-tracking model for sHU\n",
      "fitting eye-tracking model for sEH\n",
      "fitting eye-tracking model for sSE\n",
      "fitting eye-tracking model for sEO\n",
      "fitting eye-tracking model for sAA\n",
      "fitting eye-tracking model for sEE\n",
      "fitting eye-tracking model for sML\n",
      "fitting eye-tracking model for sIU1\n",
      "fitting eye-tracking model for sIU\n",
      "fitting eye-tracking model for sRH\n",
      "fitting eye-tracking model for sAA2\n",
      "fitting eye-tracking model for sAE\n",
      "fitting eye-tracking model for sNH\n",
      "fitting eye-tracking model for sAO1\n",
      "fitting eye-tracking model for sAO\n",
      "fitting eye-tracking model for sOA\n",
      "fitting eye-tracking model for sLG\n",
      "fitting eye-tracking model for sRO\n",
      "fitting eye-tracking model for sEI\n",
      "fitting eye-tracking + context model for sON\n",
      "fitting eye-tracking + context model for sEA\n",
      "fitting eye-tracking + context model for sAA1\n",
      "fitting eye-tracking + context model for sHU\n",
      "fitting eye-tracking + context model for sEH\n",
      "fitting eye-tracking + context model for sSE\n",
      "fitting eye-tracking + context model for sEO\n",
      "fitting eye-tracking + context model for sAA\n",
      "fitting eye-tracking + context model for sEE\n",
      "fitting eye-tracking + context model for sML\n",
      "fitting eye-tracking + context model for sIU1\n",
      "fitting eye-tracking + context model for sIU\n",
      "fitting eye-tracking + context model for sRH\n",
      "fitting eye-tracking + context model for sAA2\n",
      "fitting eye-tracking + context model for sAE\n",
      "fitting eye-tracking + context model for sNH\n",
      "fitting eye-tracking + context model for sAO1\n",
      "fitting eye-tracking + context model for sAO\n",
      "fitting eye-tracking + context model for sOA\n",
      "fitting eye-tracking + context model for sLG\n",
      "fitting eye-tracking + context model for sRO\n",
      "fitting eye-tracking + context model for sEI\n"
     ]
    },
    {
     "data": {
      "image/png": "[encoded data removed]",
      "text/plain": [
       "<Figure size 432x288 with 1 Axes>"
      ]
     },
     "metadata": {
      "needs_background": "light"
     },
     "output_type": "display_data"
    },
    {
     "ename": "ValueError",
     "evalue": "too many values to unpack (expected 2)",
     "output_type": "error",
     "traceback": [
      "\u001b[0;31m---------------------------------------------------------------------------\u001b[0m",
      "\u001b[0;31mValueError\u001b[0m                                Traceback (most recent call last)",
      "\u001b[0;32m<ipython-input-17-445697fda9ec>\u001b[0m in \u001b[0;36m<module>\u001b[0;34m\u001b[0m\n\u001b[1;32m      6\u001b[0m \u001b[0;34m\u001b[0m\u001b[0m\n\u001b[1;32m      7\u001b[0m fig, models = run_models.run(dataframe=df_merged,\n\u001b[0;32m----> 8\u001b[0;31m               model_names=['context', 'eye-tracking', 'eye-tracking + context'])\n\u001b[0m\u001b[1;32m      9\u001b[0m \u001b[0;34m\u001b[0m\u001b[0m\n\u001b[1;32m     10\u001b[0m \u001b[0mfig\u001b[0m\u001b[0;34m\u001b[0m\u001b[0;34m\u001b[0m\u001b[0m\n",
      "\u001b[0;31mValueError\u001b[0m: too many values to unpack (expected 2)"
     ]
    }
   ],
   "source": [
    "# run models\n",
    "\n",
    "# NOTE:\n",
    "# model functions have been saved in modeling.py and the high-level model routine has been saved in run_models.py\n",
    "# to modify the models, go to get_model_features in modelling.py and hardcode in new model features\n",
    "\n",
    "models = run_models.run(dataframe = df_merged, model_names= ['context', 'eye-tracking', 'eye-tracking + context'])\n",
    "\n",
    "models"
   ]
  },
  {
   "cell_type": "code",
   "execution_count": null,
   "id": "boolean-consumer",
   "metadata": {},
   "outputs": [],
   "source": []
  }
 ],
 "metadata": {
  "kernelspec": {
   "display_name": "action_prediction",
   "language": "python",
   "name": "action_prediction"
  },
  "language_info": {
   "codemirror_mode": {
    "name": "ipython",
    "version": 3
   },
   "file_extension": ".py",
   "mimetype": "text/x-python",
   "name": "python",
   "nbconvert_exporter": "python",
   "pygments_lexer": "ipython3",
   "version": "3.7.4"
  }
 },
 "nbformat": 4,
 "nbformat_minor": 5
}
