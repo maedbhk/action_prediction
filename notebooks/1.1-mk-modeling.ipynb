{
 "cells": [
  {
   "cell_type": "code",
   "execution_count": 39,
   "id": "declared-equipment",
   "metadata": {},
   "outputs": [
    {
     "ename": "ModuleNotFoundError",
     "evalue": "No module named 'models'",
     "output_type": "error",
     "traceback": [
      "\u001b[0;31m---------------------------------------------------------------------------\u001b[0m",
      "\u001b[0;31mModuleNotFoundError\u001b[0m                       Traceback (most recent call last)",
      "\u001b[0;32m<ipython-input-39-1848d9830d75>\u001b[0m in \u001b[0;36m<module>\u001b[0;34m\u001b[0m\n\u001b[1;32m     11\u001b[0m \u001b[0;32mfrom\u001b[0m \u001b[0maction_prediction\u001b[0m \u001b[0;32mimport\u001b[0m \u001b[0mrun_models\u001b[0m\u001b[0;34m\u001b[0m\u001b[0;34m\u001b[0m\u001b[0m\n\u001b[1;32m     12\u001b[0m \u001b[0;34m\u001b[0m\u001b[0m\n\u001b[0;32m---> 13\u001b[0;31m \u001b[0;32mfrom\u001b[0m \u001b[0mmodels\u001b[0m\u001b[0;34m.\u001b[0m\u001b[0mrun_models\u001b[0m \u001b[0;32mimport\u001b[0m \u001b[0mrun\u001b[0m\u001b[0;34m\u001b[0m\u001b[0;34m\u001b[0m\u001b[0m\n\u001b[0m\u001b[1;32m     14\u001b[0m \u001b[0;34m\u001b[0m\u001b[0m\n\u001b[1;32m     15\u001b[0m \u001b[0mget_ipython\u001b[0m\u001b[0;34m(\u001b[0m\u001b[0;34m)\u001b[0m\u001b[0;34m.\u001b[0m\u001b[0mrun_line_magic\u001b[0m\u001b[0;34m(\u001b[0m\u001b[0;34m'load_ext'\u001b[0m\u001b[0;34m,\u001b[0m \u001b[0;34m'autoreload'\u001b[0m\u001b[0;34m)\u001b[0m\u001b[0;34m\u001b[0m\u001b[0;34m\u001b[0m\u001b[0m\n",
      "\u001b[0;31mModuleNotFoundError\u001b[0m: No module named 'models'"
     ]
    }
   ],
   "source": [
    "# load libraries\n",
    "\n",
    "import pandas as pd\n",
    "import numpy as np\n",
    "import seaborn as sns\n",
    "import os\n",
    "import matplotlib.pyplot as plt\n",
    "\n",
    "from action_prediction import constants as const\n",
    "from action_prediction.data import DataSet\n",
    "from action_prediction import run_models\n",
    "\n",
    "#from models.run_models import run\n",
    "\n",
    "%load_ext autoreload\n",
    "%autoreload 2\n",
    "\n",
    "import warnings\n",
    "warnings.filterwarnings(\"ignore\")  "
   ]
  },
  {
   "cell_type": "code",
   "execution_count": 37,
   "id": "norman-raise",
   "metadata": {},
   "outputs": [],
   "source": [
    "# initialize class \n",
    "data = DataSet(task='social_prediction')\n",
    "\n",
    "# load behavior\n",
    "df_behav = data.load_behav()\n",
    "\n",
    "# load eyetracking\n",
    "df_eye = data.load_eye(data_type='events')\n",
    "\n",
    "# merge eyetracking with behav\n",
    "df_merged = data.merge_behav_eye(dataframe_behav=df_behav, dataframe_eye=df_eye)\n",
    "\n",
    "#merge demographics- subj ID based; df_merged.merge\n",
    "#breakdown of results by subj ID\n",
    "#add in sex column (M/F)\n",
    "#df_merged.merge(df_demographic, left_on='subj_id', right_on='fmriprep_id')\n"
   ]
  },
  {
   "cell_type": "code",
   "execution_count": 38,
   "id": "timely-disney",
   "metadata": {},
   "outputs": [
    {
     "name": "stdout",
     "output_type": "stream",
     "text": [
      "fitting social model for sON\n",
      "fitting social model for sEA\n",
      "fitting social model for sAA1\n",
      "error raised when fitting social model for sHU\n",
      "error raised when fitting social model for sEH\n",
      "error raised when fitting social model for sSE\n",
      "error raised when fitting social model for sEO\n",
      "error raised when fitting social model for sAA\n",
      "error raised when fitting social model for sEE\n",
      "error raised when fitting social model for sML\n",
      "error raised when fitting social model for sIU1\n",
      "error raised when fitting social model for sIU\n",
      "error raised when fitting eyetracking model for sON\n",
      "error raised when fitting eyetracking model for sEA\n",
      "error raised when fitting eyetracking model for sAA1\n",
      "error raised when fitting eyetracking model for sHU\n",
      "error raised when fitting eyetracking model for sEH\n",
      "error raised when fitting eyetracking model for sSE\n",
      "error raised when fitting eyetracking model for sEO\n",
      "error raised when fitting eyetracking model for sAA\n",
      "error raised when fitting eyetracking model for sEE\n",
      "error raised when fitting eyetracking model for sML\n",
      "error raised when fitting eyetracking model for sIU1\n",
      "error raised when fitting eyetracking model for sIU\n",
      "fitting social+eyetracking model for sON\n",
      "fitting social+eyetracking model for sEA\n",
      "fitting social+eyetracking model for sAA1\n",
      "error raised when fitting social+eyetracking model for sHU\n",
      "error raised when fitting social+eyetracking model for sEH\n",
      "error raised when fitting social+eyetracking model for sSE\n",
      "error raised when fitting social+eyetracking model for sEO\n",
      "error raised when fitting social+eyetracking model for sAA\n",
      "error raised when fitting social+eyetracking model for sEE\n",
      "error raised when fitting social+eyetracking model for sML\n",
      "error raised when fitting social+eyetracking model for sIU1\n",
      "error raised when fitting social+eyetracking model for sIU\n"
     ]
    },
    {
     "data": {
      "image/png": "[encoded data removed]",
      "text/plain": [
       "<Figure size 432x288 with 1 Axes>"
      ]
     },
     "metadata": {
      "needs_background": "light"
     },
     "output_type": "display_data"
    },
    {
     "data": {
      "text/html": [
       "<div>\n",
       "<style scoped>\n",
       "    .dataframe tbody tr th:only-of-type {\n",
       "        vertical-align: middle;\n",
       "    }\n",
       "\n",
       "    .dataframe tbody tr th {\n",
       "        vertical-align: top;\n",
       "    }\n",
       "\n",
       "    .dataframe thead th {\n",
       "        text-align: right;\n",
       "    }\n",
       "</style>\n",
       "<table border=\"1\" class=\"dataframe\">\n",
       "  <thead>\n",
       "    <tr style=\"text-align: right;\">\n",
       "      <th></th>\n",
       "      <th>train_rmse</th>\n",
       "      <th>cv_rmse</th>\n",
       "      <th>model_name</th>\n",
       "      <th>test_rmse</th>\n",
       "      <th>subj</th>\n",
       "    </tr>\n",
       "  </thead>\n",
       "  <tbody>\n",
       "    <tr>\n",
       "      <th>0</th>\n",
       "      <td>0.414858</td>\n",
       "      <td>0.421700</td>\n",
       "      <td>social</td>\n",
       "      <td>0.428324</td>\n",
       "      <td>sON</td>\n",
       "    </tr>\n",
       "    <tr>\n",
       "      <th>0</th>\n",
       "      <td>0.442830</td>\n",
       "      <td>0.451415</td>\n",
       "      <td>social</td>\n",
       "      <td>0.425276</td>\n",
       "      <td>sEA</td>\n",
       "    </tr>\n",
       "    <tr>\n",
       "      <th>0</th>\n",
       "      <td>0.426824</td>\n",
       "      <td>0.432263</td>\n",
       "      <td>social</td>\n",
       "      <td>0.343546</td>\n",
       "      <td>sAA1</td>\n",
       "    </tr>\n",
       "    <tr>\n",
       "      <th>0</th>\n",
       "      <td>0.414858</td>\n",
       "      <td>0.421700</td>\n",
       "      <td>social+eyetracking</td>\n",
       "      <td>0.000000</td>\n",
       "      <td>sON</td>\n",
       "    </tr>\n",
       "    <tr>\n",
       "      <th>0</th>\n",
       "      <td>0.442830</td>\n",
       "      <td>0.451415</td>\n",
       "      <td>social+eyetracking</td>\n",
       "      <td>0.000000</td>\n",
       "      <td>sEA</td>\n",
       "    </tr>\n",
       "    <tr>\n",
       "      <th>0</th>\n",
       "      <td>0.426824</td>\n",
       "      <td>0.432263</td>\n",
       "      <td>social+eyetracking</td>\n",
       "      <td>0.000000</td>\n",
       "      <td>sAA1</td>\n",
       "    </tr>\n",
       "  </tbody>\n",
       "</table>\n",
       "</div>"
      ],
      "text/plain": [
       "   train_rmse   cv_rmse          model_name  test_rmse  subj\n",
       "0    0.414858  0.421700              social   0.428324   sON\n",
       "0    0.442830  0.451415              social   0.425276   sEA\n",
       "0    0.426824  0.432263              social   0.343546  sAA1\n",
       "0    0.414858  0.421700  social+eyetracking   0.000000   sON\n",
       "0    0.442830  0.451415  social+eyetracking   0.000000   sEA\n",
       "0    0.426824  0.432263  social+eyetracking   0.000000  sAA1"
      ]
     },
     "execution_count": 38,
     "metadata": {},
     "output_type": "execute_result"
    }
   ],
   "source": [
    "# run models\n",
    "\n",
    "# NOTE:\n",
    "# model functions have been saved in modeling.py and the high-level model routine has been saved in run_models.py\n",
    "# to modify the models, go to get_model_features in modelling.py and hardcode in new model features\n",
    "\n",
    "\n",
    "models = run_models.run(dataframe = df_merged, model_names= ['social', 'eyetracking', 'social+eyetracking'])\n",
    "#fig, models = run_models.run(dataframe=df_merged,\n",
    "            # model_names=['social', 'eyetracking', 'social+eyetracking'])\n",
    "models\n"
   ]
  },
  {
   "cell_type": "code",
   "execution_count": null,
   "id": "military-slovak",
   "metadata": {},
   "outputs": [],
   "source": []
  }
 ],
 "metadata": {
  "kernelspec": {
   "display_name": "action_prediction",
   "language": "python",
   "name": "action_prediction"
  },
  "language_info": {
   "codemirror_mode": {
    "name": "ipython",
    "version": 3
   },
   "file_extension": ".py",
   "mimetype": "text/x-python",
   "name": "python",
   "nbconvert_exporter": "python",
   "pygments_lexer": "ipython3",
   "version": "3.7.4"
  }
 },
 "nbformat": 4,
 "nbformat_minor": 5
}
