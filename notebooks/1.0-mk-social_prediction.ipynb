{
 "cells": [
  {
   "cell_type": "code",
   "execution_count": 110,
   "metadata": {},
   "outputs": [
    {
     "name": "stdout",
     "output_type": "stream",
     "text": [
      "The autoreload extension is already loaded. To reload it, use:\n",
      "  %reload_ext autoreload\n"
     ]
    }
   ],
   "source": [
    "# load libraries\n",
    "\n",
    "import pandas as pd\n",
    "import numpy as np\n",
    "import seaborn as sns\n",
    "import os\n",
    "import matplotlib.pyplot as plt\n",
    "\n",
    "from action_prediction import constants as const\n",
    "from action_prediction.data import DataSet\n",
    "from action_prediction import visualize as vis\n",
    "from action_prediction import inter_subject_congruency as isc\n",
    "\n",
    "%load_ext autoreload\n",
    "%autoreload 2\n",
    "\n",
    "import warnings\n",
    "warnings.filterwarnings(\"ignore\")  "
   ]
  },
  {
   "cell_type": "code",
   "execution_count": 126,
   "metadata": {},
   "outputs": [],
   "source": [
    "# initialize class \n",
    "data = DataSet(task='social_prediction')\n",
    "\n",
    "# load behavior\n",
    "df_behav = data.load_behav()\n",
    "\n",
    "# load eyetracking\n",
    "df_eye = data.load_eye(data_type='events')\n",
    "\n",
    "# merge eyetracking with behav\n",
    "df_merged = data.merge_behav_eye(dataframe_behav=df_behav, dataframe_eye=df_eye)\n"
   ]
  },
  {
   "cell_type": "code",
   "execution_count": null,
   "metadata": {},
   "outputs": [],
   "source": [
    "# get all tasks\n",
    "df_all = pd.DataFrame()\n",
    "for task in const.tasks:\n",
    "    data = DataSet(task=task)\n",
    "    df_eye = data.load_eye(data_type='events')\n",
    "    df_all = pd.concat([df_all, df_eye])   "
   ]
  },
  {
   "cell_type": "code",
   "execution_count": null,
   "metadata": {},
   "outputs": [],
   "source": [
    "# initialize plotting style\n",
    "vis.plotting_style()"
   ]
  },
  {
   "cell_type": "code",
   "execution_count": null,
   "metadata": {},
   "outputs": [],
   "source": [
    "# summary plot\n",
    "\n",
    "df = df_all.groupby(['task', 'type', 'subj'])['type'].count().reset_index(name=\"count\")\n",
    "\n",
    "sns.barplot(x='task', y='count', data=df.query('type==\"saccade\"'))\n",
    "plt.ylabel('Saccade Count')\n",
    "\n",
    "vis._save_fig(plt, 'saccade_count_all_tasks.png')"
   ]
  },
  {
   "cell_type": "code",
   "execution_count": null,
   "metadata": {},
   "outputs": [],
   "source": [
    "# plot fixation count\n",
    "vis.plot_fixation_count(dataframe=df_merged, x='run_num', hue=None)  "
   ]
  },
  {
   "cell_type": "code",
   "execution_count": null,
   "metadata": {},
   "outputs": [],
   "source": [
    "# plot fixation duration\n",
    "vis.plot_fixation_duration(dataframe=df_all.query('task==\"n_back\"'), x='run_num', hue=None)"
   ]
  },
  {
   "cell_type": "code",
   "execution_count": null,
   "metadata": {},
   "outputs": [],
   "source": [
    "sns.barplot(x='task', y='duration', data=df_all.query('type==\"fixations\"'))\n",
    "plt.ylabel('Duration (ms)')\n",
    "\n",
    "vis._save_fig(plt, 'fixation_duration_all_tasks.png')"
   ]
  },
  {
   "cell_type": "code",
   "execution_count": null,
   "metadata": {},
   "outputs": [],
   "source": [
    "# visualize accuracy across runs\n",
    "vis.plot_acc(dataframe=df_behav, x='run_num', hue=None)"
   ]
  },
  {
   "cell_type": "code",
   "execution_count": null,
   "metadata": {},
   "outputs": [],
   "source": [
    "# visualize rt across runs\n",
    "vis.plot_rt(dataframe=df_behav, x='run_num', hue=None)"
   ]
  },
  {
   "cell_type": "code",
   "execution_count": null,
   "metadata": {
    "scrolled": false
   },
   "outputs": [],
   "source": [
    "# plot diameter\n",
    "# vis.plot_diameter(dataframe=df_merged)"
   ]
  },
  {
   "cell_type": "markdown",
   "metadata": {},
   "source": [
    "## Visualization of Correlations\n",
    "Another approach that visualizes correlations between subjects\n",
    "\n",
    "reference source: https://medium.com/@sebastiannorena/finding-correlation-between-many-variables-multidimensional-dataset-with-python-5deb3f39ffb3"
   ]
  },
  {
   "cell_type": "code",
   "execution_count": null,
   "metadata": {},
   "outputs": [],
   "source": [
    "# get all subj fixations\n",
    "fixations = isc.get_subj_fixations(dataframe=df_eye, data_type='events')\n",
    "\n",
    "# grid subject data\n",
    "gridded_data = isc.grid_all_subjects(fixations)\n",
    "\n",
    "# visualize corr matrix\n",
    "correlations = vis.visualize_corr(gridded_data)"
   ]
  },
  {
   "cell_type": "markdown",
   "metadata": {},
   "source": [
    "# Inter-observer congruency\n",
    "\n",
    "Idea: Build a saliency map from all observers except the ith observer. To calculate degree of similarity between ith observer and others, calculate hit rate. Iterate over all subjects and average scores to get the IOC.\n",
    "\n",
    "Iterate over all fixation positions(x,y)\n",
    "Convert fixation positions to gridded positions\n",
    "For each grid position, map position to number of fixations in that grid position\n",
    "Adaptive Binarization - yes or no whether some threshold number t or more fixations in that position"
   ]
  },
  {
   "cell_type": "code",
   "execution_count": null,
   "metadata": {},
   "outputs": [],
   "source": [
    "ioc_rates = isc.ioc(gridded_data=gridded_data, thresholds=[5, 10, 15, 20])\n",
    "\n",
    "sns.factorplot(x='threshold', y='hit_rate', data=ioc_rates)\n",
    "plt.title(\"Inter-Observer Congruency\");"
   ]
  },
  {
   "cell_type": "markdown",
   "metadata": {},
   "source": [
    "## Pairwise Comparison¶\n",
    "To measure how much of a subject's fixations match with all other subjects'\n",
    "\n",
    "Convert fixations to their locations in a grid\n",
    "Since all the subjects have the same grid, the vectors being compared for each subject now all have the same length since each subject has one entry per grid position that contains the number of fixations at that position\n",
    "Calculate correlation between each subject\n",
    "Convert correlations to z-scores with Fisher Z-Transformation\n",
    "Average z-scores\n",
    "Convert to probabilities\n",
    "Note on Fisher Z-Transformation:\n",
    "\n",
    "The Fisher Z-Transformation is a way to transform the sampling distribution of Pearson’s r (i.e. the correlation coefficient) so that it becomes normally distributed. The “z” in Fisher Z stands for a z-score. The formula to transform r to a z-score is: z’ = .5[ln(1+r) – ln(1-r)]"
   ]
  },
  {
   "cell_type": "code",
   "execution_count": null,
   "metadata": {},
   "outputs": [],
   "source": [
    "results = isc.pairwise(gridded_data)\n",
    "\n",
    "sns.barplot(x='observer', y='avrg_zscore', data=results)\n",
    "# sns.lineplot(x='observer', y='probability', data=results)"
   ]
  },
  {
   "cell_type": "code",
   "execution_count": null,
   "metadata": {},
   "outputs": [],
   "source": [
    "# plot saccade count\n",
    "# vis.plot_saccade_count(dataframe=df_merged, x='run_num', hue=None)"
   ]
  },
  {
   "cell_type": "code",
   "execution_count": null,
   "metadata": {},
   "outputs": [],
   "source": [
    "# plot amplitude\n",
    "# vis.plot_amplitude(dataframe=df_merged, x='label', hue='condition_name')"
   ]
  },
  {
   "cell_type": "code",
   "execution_count": null,
   "metadata": {},
   "outputs": [],
   "source": [
    "# plot dispersion\n",
    "# vis.plot_dispersion(dataframe=df_merged, x='run_num', hue=None)"
   ]
  },
  {
   "cell_type": "code",
   "execution_count": null,
   "metadata": {},
   "outputs": [],
   "source": [
    "# plot peak velocity\n",
    "# vis.plot_peak_velocity(dataframe=df_merged, x='label', hue=None)"
   ]
  },
  {
   "cell_type": "code",
   "execution_count": null,
   "metadata": {},
   "outputs": [],
   "source": [
    "# heatmap\n",
    "\n",
    "# # one subj, one run\n",
    "# for run in range(14):\n",
    "#     tmp = df_eye[(df_eye['subj']=='sIU') & (df_eye['run_num']==run+1) & (df_eye['type']==\"fixations\")]\n",
    "#     vis.plot_gaze_positions(dataframe=tmp)\n",
    "#     plt.title(f'run{run+1}')"
   ]
  },
  {
   "cell_type": "code",
   "execution_count": null,
   "metadata": {},
   "outputs": [],
   "source": []
  }
 ],
 "metadata": {
  "kernelspec": {
   "display_name": "action_prediction",
   "language": "python",
   "name": "action_prediction"
  },
  "language_info": {
   "codemirror_mode": {
    "name": "ipython",
    "version": 3
   },
   "file_extension": ".py",
   "mimetype": "text/x-python",
   "name": "python",
   "nbconvert_exporter": "python",
   "pygments_lexer": "ipython3",
   "version": "3.7.8"
  }
 },
 "nbformat": 4,
 "nbformat_minor": 4
}
